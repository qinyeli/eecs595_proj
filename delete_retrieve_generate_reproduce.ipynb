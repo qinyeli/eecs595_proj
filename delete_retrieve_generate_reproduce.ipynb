{
  "nbformat": 4,
  "nbformat_minor": 0,
  "metadata": {
    "colab": {
      "name": "delete_retrieve_generate_reproduce",
      "provenance": [],
      "collapsed_sections": []
    },
    "kernelspec": {
      "display_name": "Python 3",
      "name": "python3"
    },
    "language_info": {
      "name": "python"
    },
    "accelerator": "GPU"
  },
  "cells": [
    {
      "cell_type": "code",
      "metadata": {
        "id": "W8CFuVg4eokW",
        "colab": {
          "base_uri": "https://localhost:8080/"
        },
        "outputId": "2f0b79af-cb7c-472a-8217-7b09af786300"
      },
      "source": [
        "from google.colab import drive\n",
        "drive.mount('/content/gdrive')"
      ],
      "execution_count": null,
      "outputs": [
        {
          "output_type": "stream",
          "name": "stdout",
          "text": [
            "Mounted at /content/gdrive\n"
          ]
        }
      ]
    },
    {
      "cell_type": "code",
      "source": [
        "import pandas\n",
        "import nltk\n",
        "from nltk.tokenize import word_tokenize\n",
        "\n",
        "nltk.download('punkt')\n",
        "\n",
        "def tokenize_lyrics(lyrics_path, output_path):\n",
        "  lyrics_df = pandas.read_csv('lyrics_path)', header=None, error_bad_lines=False)\n",
        "  lyrics_list = lyrics_df.values.tolist()\n",
        "  print(len(lyrics_list))\n",
        "\n",
        "  with open(output_path, 'w') as f:\n",
        "    for row in lyrics_list:\n",
        "      line = ' '.join(map(str, row))\n",
        "      if not line or '|' in line:\n",
        "        continue\n",
        "      f.write(' '.join(word_tokenize(line.lower())))\n",
        "      f.write('\\n')\n"
      ],
      "metadata": {
        "colab": {
          "base_uri": "https://localhost:8080/"
        },
        "id": "zBQ8Mo0J43xL",
        "outputId": "f49ebfa3-0555-4460-fab8-fb68308a6672"
      },
      "execution_count": null,
      "outputs": [
        {
          "output_type": "stream",
          "name": "stdout",
          "text": [
            "[nltk_data] Downloading package punkt to /root/nltk_data...\n",
            "[nltk_data]   Package punkt is already up-to-date!\n",
            "2692\n"
          ]
        },
        {
          "output_type": "stream",
          "name": "stderr",
          "text": [
            "b'Skipping line 24: expected 1 fields, saw 2\\nSkipping line 67: expected 1 fields, saw 2\\nSkipping line 71: expected 1 fields, saw 2\\nSkipping line 74: expected 1 fields, saw 2\\nSkipping line 84: expected 1 fields, saw 2\\nSkipping line 86: expected 1 fields, saw 2\\nSkipping line 125: expected 1 fields, saw 3\\nSkipping line 128: expected 1 fields, saw 2\\nSkipping line 135: expected 1 fields, saw 2\\nSkipping line 138: expected 1 fields, saw 2\\nSkipping line 139: expected 1 fields, saw 2\\nSkipping line 145: expected 1 fields, saw 2\\nSkipping line 146: expected 1 fields, saw 3\\nSkipping line 148: expected 1 fields, saw 2\\nSkipping line 149: expected 1 fields, saw 2\\nSkipping line 150: expected 1 fields, saw 5\\nSkipping line 153: expected 1 fields, saw 2\\nSkipping line 154: expected 1 fields, saw 6\\nSkipping line 157: expected 1 fields, saw 3\\nSkipping line 159: expected 1 fields, saw 2\\nSkipping line 160: expected 1 fields, saw 3\\nSkipping line 161: expected 1 fields, saw 6\\nSkipping line 162: expected 1 fields, saw 5\\nSkipping line 163: expected 1 fields, saw 2\\nSkipping line 164: expected 1 fields, saw 2\\nSkipping line 166: expected 1 fields, saw 4\\nSkipping line 167: expected 1 fields, saw 2\\nSkipping line 168: expected 1 fields, saw 5\\nSkipping line 169: expected 1 fields, saw 2\\nSkipping line 170: expected 1 fields, saw 5\\nSkipping line 173: expected 1 fields, saw 2\\nSkipping line 177: expected 1 fields, saw 2\\nSkipping line 178: expected 1 fields, saw 2\\nSkipping line 179: expected 1 fields, saw 3\\nSkipping line 182: expected 1 fields, saw 2\\nSkipping line 261: expected 1 fields, saw 2\\nSkipping line 263: expected 1 fields, saw 2\\nSkipping line 269: expected 1 fields, saw 2\\nSkipping line 270: expected 1 fields, saw 2\\nSkipping line 271: expected 1 fields, saw 2\\nSkipping line 272: expected 1 fields, saw 2\\nSkipping line 274: expected 1 fields, saw 2\\nSkipping line 279: expected 1 fields, saw 2\\nSkipping line 286: expected 1 fields, saw 3\\nSkipping line 291: expected 1 fields, saw 2\\nSkipping line 294: expected 1 fields, saw 5\\nSkipping line 295: expected 1 fields, saw 5\\nSkipping line 296: expected 1 fields, saw 2\\nSkipping line 299: expected 1 fields, saw 2\\nSkipping line 301: expected 1 fields, saw 2\\nSkipping line 306: expected 1 fields, saw 3\\nSkipping line 307: expected 1 fields, saw 4\\nSkipping line 308: expected 1 fields, saw 4\\nSkipping line 309: expected 1 fields, saw 2\\nSkipping line 311: expected 1 fields, saw 2\\nSkipping line 312: expected 1 fields, saw 2\\nSkipping line 313: expected 1 fields, saw 2\\nSkipping line 344: expected 1 fields, saw 2\\nSkipping line 349: expected 1 fields, saw 2\\nSkipping line 350: expected 1 fields, saw 2\\nSkipping line 354: expected 1 fields, saw 3\\nSkipping line 355: expected 1 fields, saw 2\\nSkipping line 363: expected 1 fields, saw 2\\nSkipping line 366: expected 1 fields, saw 2\\nSkipping line 370: expected 1 fields, saw 2\\nSkipping line 372: expected 1 fields, saw 3\\nSkipping line 373: expected 1 fields, saw 2\\nSkipping line 374: expected 1 fields, saw 2\\nSkipping line 377: expected 1 fields, saw 2\\nSkipping line 382: expected 1 fields, saw 2\\nSkipping line 392: expected 1 fields, saw 2\\nSkipping line 393: expected 1 fields, saw 3\\nSkipping line 397: expected 1 fields, saw 2\\nSkipping line 398: expected 1 fields, saw 2\\nSkipping line 404: expected 1 fields, saw 2\\nSkipping line 407: expected 1 fields, saw 4\\nSkipping line 417: expected 1 fields, saw 3\\nSkipping line 434: expected 1 fields, saw 2\\nSkipping line 442: expected 1 fields, saw 2\\nSkipping line 443: expected 1 fields, saw 3\\nSkipping line 445: expected 1 fields, saw 3\\nSkipping line 447: expected 1 fields, saw 2\\nSkipping line 450: expected 1 fields, saw 3\\nSkipping line 451: expected 1 fields, saw 3\\nSkipping line 456: expected 1 fields, saw 2\\nSkipping line 457: expected 1 fields, saw 3\\nSkipping line 458: expected 1 fields, saw 2\\nSkipping line 459: expected 1 fields, saw 2\\nSkipping line 460: expected 1 fields, saw 2\\nSkipping line 468: expected 1 fields, saw 3\\nSkipping line 469: expected 1 fields, saw 3\\nSkipping line 470: expected 1 fields, saw 2\\nSkipping line 473: expected 1 fields, saw 2\\nSkipping line 474: expected 1 fields, saw 2\\nSkipping line 475: expected 1 fields, saw 3\\nSkipping line 476: expected 1 fields, saw 2\\nSkipping line 477: expected 1 fields, saw 3\\nSkipping line 479: expected 1 fields, saw 3\\nSkipping line 480: expected 1 fields, saw 3\\nSkipping line 536: expected 1 fields, saw 2\\nSkipping line 583: expected 1 fields, saw 2\\nSkipping line 589: expected 1 fields, saw 3\\nSkipping line 593: expected 1 fields, saw 3\\nSkipping line 596: expected 1 fields, saw 3\\nSkipping line 600: expected 1 fields, saw 2\\nSkipping line 602: expected 1 fields, saw 3\\nSkipping line 603: expected 1 fields, saw 2\\nSkipping line 607: expected 1 fields, saw 2\\nSkipping line 609: expected 1 fields, saw 2\\nSkipping line 611: expected 1 fields, saw 4\\nSkipping line 619: expected 1 fields, saw 2\\nSkipping line 621: expected 1 fields, saw 2\\nSkipping line 622: expected 1 fields, saw 2\\nSkipping line 625: expected 1 fields, saw 3\\nSkipping line 627: expected 1 fields, saw 2\\nSkipping line 628: expected 1 fields, saw 2\\nSkipping line 629: expected 1 fields, saw 2\\nSkipping line 633: expected 1 fields, saw 2\\nSkipping line 634: expected 1 fields, saw 2\\nSkipping line 646: expected 1 fields, saw 2\\nSkipping line 650: expected 1 fields, saw 4\\nSkipping line 656: expected 1 fields, saw 2\\nSkipping line 657: expected 1 fields, saw 2\\nSkipping line 659: expected 1 fields, saw 3\\nSkipping line 680: expected 1 fields, saw 2\\nSkipping line 703: expected 1 fields, saw 2\\nSkipping line 705: expected 1 fields, saw 2\\nSkipping line 706: expected 1 fields, saw 4\\nSkipping line 708: expected 1 fields, saw 2\\nSkipping line 709: expected 1 fields, saw 2\\nSkipping line 712: expected 1 fields, saw 2\\nSkipping line 713: expected 1 fields, saw 2\\nSkipping line 715: expected 1 fields, saw 2\\nSkipping line 717: expected 1 fields, saw 2\\nSkipping line 719: expected 1 fields, saw 2\\nSkipping line 720: expected 1 fields, saw 3\\nSkipping line 722: expected 1 fields, saw 2\\nSkipping line 723: expected 1 fields, saw 3\\nSkipping line 725: expected 1 fields, saw 2\\nSkipping line 726: expected 1 fields, saw 3\\nSkipping line 728: expected 1 fields, saw 2\\nSkipping line 730: expected 1 fields, saw 2\\nSkipping line 732: expected 1 fields, saw 2\\nSkipping line 750: expected 1 fields, saw 3\\nSkipping line 754: expected 1 fields, saw 3\\nSkipping line 755: expected 1 fields, saw 4\\nSkipping line 757: expected 1 fields, saw 2\\nSkipping line 758: expected 1 fields, saw 2\\nSkipping line 761: expected 1 fields, saw 3\\nSkipping line 764: expected 1 fields, saw 2\\nSkipping line 784: expected 1 fields, saw 2\\nSkipping line 789: expected 1 fields, saw 2\\nSkipping line 790: expected 1 fields, saw 2\\nSkipping line 791: expected 1 fields, saw 3\\nSkipping line 792: expected 1 fields, saw 3\\nSkipping line 793: expected 1 fields, saw 2\\nSkipping line 796: expected 1 fields, saw 2\\nSkipping line 797: expected 1 fields, saw 2\\nSkipping line 799: expected 1 fields, saw 3\\nSkipping line 801: expected 1 fields, saw 2\\nSkipping line 805: expected 1 fields, saw 2\\nSkipping line 810: expected 1 fields, saw 2\\nSkipping line 811: expected 1 fields, saw 2\\nSkipping line 812: expected 1 fields, saw 2\\nSkipping line 814: expected 1 fields, saw 2\\nSkipping line 818: expected 1 fields, saw 2\\nSkipping line 821: expected 1 fields, saw 2\\nSkipping line 828: expected 1 fields, saw 2\\nSkipping line 830: expected 1 fields, saw 2\\nSkipping line 838: expected 1 fields, saw 2\\nSkipping line 839: expected 1 fields, saw 2\\nSkipping line 840: expected 1 fields, saw 2\\nSkipping line 844: expected 1 fields, saw 2\\nSkipping line 845: expected 1 fields, saw 2\\nSkipping line 847: expected 1 fields, saw 2\\nSkipping line 851: expected 1 fields, saw 3\\nSkipping line 856: expected 1 fields, saw 2\\nSkipping line 858: expected 1 fields, saw 2\\nSkipping line 862: expected 1 fields, saw 2\\nSkipping line 863: expected 1 fields, saw 3\\nSkipping line 869: expected 1 fields, saw 2\\nSkipping line 871: expected 1 fields, saw 2\\nSkipping line 875: expected 1 fields, saw 3\\nSkipping line 877: expected 1 fields, saw 2\\nSkipping line 881: expected 1 fields, saw 2\\nSkipping line 882: expected 1 fields, saw 2\\nSkipping line 883: expected 1 fields, saw 2\\nSkipping line 885: expected 1 fields, saw 3\\nSkipping line 887: expected 1 fields, saw 2\\nSkipping line 888: expected 1 fields, saw 2\\nSkipping line 891: expected 1 fields, saw 2\\nSkipping line 892: expected 1 fields, saw 3\\nSkipping line 895: expected 1 fields, saw 2\\nSkipping line 899: expected 1 fields, saw 4\\nSkipping line 907: expected 1 fields, saw 2\\nSkipping line 908: expected 1 fields, saw 2\\nSkipping line 910: expected 1 fields, saw 2\\nSkipping line 928: expected 1 fields, saw 2\\nSkipping line 929: expected 1 fields, saw 2\\nSkipping line 930: expected 1 fields, saw 2\\nSkipping line 931: expected 1 fields, saw 2\\nSkipping line 951: expected 1 fields, saw 4\\nSkipping line 952: expected 1 fields, saw 4\\nSkipping line 954: expected 1 fields, saw 3\\nSkipping line 955: expected 1 fields, saw 3\\nSkipping line 958: expected 1 fields, saw 2\\nSkipping line 964: expected 1 fields, saw 2\\nSkipping line 968: expected 1 fields, saw 3\\nSkipping line 972: expected 1 fields, saw 2\\nSkipping line 984: expected 1 fields, saw 2\\nSkipping line 985: expected 1 fields, saw 2\\nSkipping line 986: expected 1 fields, saw 2\\nSkipping line 987: expected 1 fields, saw 2\\nSkipping line 988: expected 1 fields, saw 2\\nSkipping line 989: expected 1 fields, saw 2\\nSkipping line 990: expected 1 fields, saw 2\\nSkipping line 991: expected 1 fields, saw 2\\nSkipping line 992: expected 1 fields, saw 2\\nSkipping line 993: expected 1 fields, saw 2\\nSkipping line 994: expected 1 fields, saw 2\\nSkipping line 995: expected 1 fields, saw 2\\nSkipping line 996: expected 1 fields, saw 2\\nSkipping line 1004: expected 1 fields, saw 2\\nSkipping line 1005: expected 1 fields, saw 2\\nSkipping line 1018: expected 1 fields, saw 2\\nSkipping line 1020: expected 1 fields, saw 2\\nSkipping line 1043: expected 1 fields, saw 2\\nSkipping line 1044: expected 1 fields, saw 4\\nSkipping line 1046: expected 1 fields, saw 2\\nSkipping line 1048: expected 1 fields, saw 2\\nSkipping line 1050: expected 1 fields, saw 2\\nSkipping line 1051: expected 1 fields, saw 2\\nSkipping line 1052: expected 1 fields, saw 3\\nSkipping line 1053: expected 1 fields, saw 4\\nSkipping line 1055: expected 1 fields, saw 2\\nSkipping line 1057: expected 1 fields, saw 2\\nSkipping line 1059: expected 1 fields, saw 2\\nSkipping line 1060: expected 1 fields, saw 2\\nSkipping line 1062: expected 1 fields, saw 3\\nSkipping line 1064: expected 1 fields, saw 2\\nSkipping line 1065: expected 1 fields, saw 2\\nSkipping line 1071: expected 1 fields, saw 2\\nSkipping line 1076: expected 1 fields, saw 2\\nSkipping line 1089: expected 1 fields, saw 2\\nSkipping line 1090: expected 1 fields, saw 3\\nSkipping line 1091: expected 1 fields, saw 2\\nSkipping line 1092: expected 1 fields, saw 3\\nSkipping line 1103: expected 1 fields, saw 2\\nSkipping line 1104: expected 1 fields, saw 2\\nSkipping line 1105: expected 1 fields, saw 2\\nSkipping line 1111: expected 1 fields, saw 2\\nSkipping line 1141: expected 1 fields, saw 2\\nSkipping line 1217: expected 1 fields, saw 2\\nSkipping line 1218: expected 1 fields, saw 3\\nSkipping line 1219: expected 1 fields, saw 2\\nSkipping line 1220: expected 1 fields, saw 3\\nSkipping line 1223: expected 1 fields, saw 3\\nSkipping line 1225: expected 1 fields, saw 3\\nSkipping line 1228: expected 1 fields, saw 2\\nSkipping line 1235: expected 1 fields, saw 2\\nSkipping line 1237: expected 1 fields, saw 2\\nSkipping line 1238: expected 1 fields, saw 3\\nSkipping line 1240: expected 1 fields, saw 3\\nSkipping line 1244: expected 1 fields, saw 2\\nSkipping line 1246: expected 1 fields, saw 2\\nSkipping line 1252: expected 1 fields, saw 4\\nSkipping line 1254: expected 1 fields, saw 2\\nSkipping line 1258: expected 1 fields, saw 2\\nSkipping line 1265: expected 1 fields, saw 2\\nSkipping line 1268: expected 1 fields, saw 2\\nSkipping line 1275: expected 1 fields, saw 2\\nSkipping line 1282: expected 1 fields, saw 2\\nSkipping line 1289: expected 1 fields, saw 4\\nSkipping line 1290: expected 1 fields, saw 2\\nSkipping line 1291: expected 1 fields, saw 2\\nSkipping line 1295: expected 1 fields, saw 2\\nSkipping line 1297: expected 1 fields, saw 2\\nSkipping line 1298: expected 1 fields, saw 2\\nSkipping line 1299: expected 1 fields, saw 2\\nSkipping line 1301: expected 1 fields, saw 2\\nSkipping line 1302: expected 1 fields, saw 3\\nSkipping line 1304: expected 1 fields, saw 7\\nSkipping line 1307: expected 1 fields, saw 2\\nSkipping line 1313: expected 1 fields, saw 2\\nSkipping line 1314: expected 1 fields, saw 2\\nSkipping line 1315: expected 1 fields, saw 4\\nSkipping line 1318: expected 1 fields, saw 2\\nSkipping line 1322: expected 1 fields, saw 2\\nSkipping line 1324: expected 1 fields, saw 4\\nSkipping line 1325: expected 1 fields, saw 2\\nSkipping line 1328: expected 1 fields, saw 2\\nSkipping line 1331: expected 1 fields, saw 2\\nSkipping line 1332: expected 1 fields, saw 2\\nSkipping line 1335: expected 1 fields, saw 2\\nSkipping line 1336: expected 1 fields, saw 3\\nSkipping line 1337: expected 1 fields, saw 2\\nSkipping line 1341: expected 1 fields, saw 3\\nSkipping line 1342: expected 1 fields, saw 3\\nSkipping line 1344: expected 1 fields, saw 2\\nSkipping line 1345: expected 1 fields, saw 2\\nSkipping line 1346: expected 1 fields, saw 2\\nSkipping line 1348: expected 1 fields, saw 3\\nSkipping line 1349: expected 1 fields, saw 4\\nSkipping line 1350: expected 1 fields, saw 4\\nSkipping line 1351: expected 1 fields, saw 3\\nSkipping line 1353: expected 1 fields, saw 4\\nSkipping line 1354: expected 1 fields, saw 4\\nSkipping line 1355: expected 1 fields, saw 3\\nSkipping line 1356: expected 1 fields, saw 2\\nSkipping line 1357: expected 1 fields, saw 5\\nSkipping line 1358: expected 1 fields, saw 2\\nSkipping line 1359: expected 1 fields, saw 3\\nSkipping line 1360: expected 1 fields, saw 2\\nSkipping line 1361: expected 1 fields, saw 6\\nSkipping line 1362: expected 1 fields, saw 3\\nSkipping line 1363: expected 1 fields, saw 2\\nSkipping line 1364: expected 1 fields, saw 5\\nSkipping line 1365: expected 1 fields, saw 2\\nSkipping line 1366: expected 1 fields, saw 3\\nSkipping line 1367: expected 1 fields, saw 2\\nSkipping line 1368: expected 1 fields, saw 6\\nSkipping line 1371: expected 1 fields, saw 3\\nSkipping line 1374: expected 1 fields, saw 3\\nSkipping line 1378: expected 1 fields, saw 2\\nSkipping line 1380: expected 1 fields, saw 5\\nSkipping line 1384: expected 1 fields, saw 3\\nSkipping line 1386: expected 1 fields, saw 3\\nSkipping line 1387: expected 1 fields, saw 3\\nSkipping line 1388: expected 1 fields, saw 3\\nSkipping line 1389: expected 1 fields, saw 2\\nSkipping line 1394: expected 1 fields, saw 2\\nSkipping line 1395: expected 1 fields, saw 2\\nSkipping line 1402: expected 1 fields, saw 2\\nSkipping line 1405: expected 1 fields, saw 2\\nSkipping line 1406: expected 1 fields, saw 2\\nSkipping line 1415: expected 1 fields, saw 2\\nSkipping line 1417: expected 1 fields, saw 2\\nSkipping line 1424: expected 1 fields, saw 2\\nSkipping line 1426: expected 1 fields, saw 2\\nSkipping line 1430: expected 1 fields, saw 2\\nSkipping line 1432: expected 1 fields, saw 2\\nSkipping line 1436: expected 1 fields, saw 2\\nSkipping line 1440: expected 1 fields, saw 2\\nSkipping line 1443: expected 1 fields, saw 2\\nSkipping line 1452: expected 1 fields, saw 2\\nSkipping line 1455: expected 1 fields, saw 2\\nSkipping line 1458: expected 1 fields, saw 2\\nSkipping line 1461: expected 1 fields, saw 2\\nSkipping line 1462: expected 1 fields, saw 2\\nSkipping line 1464: expected 1 fields, saw 2\\nSkipping line 1468: expected 1 fields, saw 3\\nSkipping line 1469: expected 1 fields, saw 2\\nSkipping line 1474: expected 1 fields, saw 2\\nSkipping line 1488: expected 1 fields, saw 2\\nSkipping line 1504: expected 1 fields, saw 2\\nSkipping line 1509: expected 1 fields, saw 2\\nSkipping line 1532: expected 1 fields, saw 2\\nSkipping line 1535: expected 1 fields, saw 2\\nSkipping line 1551: expected 1 fields, saw 2\\nSkipping line 1552: expected 1 fields, saw 2\\nSkipping line 1553: expected 1 fields, saw 2\\nSkipping line 1554: expected 1 fields, saw 2\\nSkipping line 1555: expected 1 fields, saw 2\\nSkipping line 1557: expected 1 fields, saw 3\\nSkipping line 1558: expected 1 fields, saw 4\\nSkipping line 1565: expected 1 fields, saw 2\\nSkipping line 1574: expected 1 fields, saw 3\\nSkipping line 1577: expected 1 fields, saw 2\\nSkipping line 1578: expected 1 fields, saw 2\\nSkipping line 1581: expected 1 fields, saw 2\\nSkipping line 1582: expected 1 fields, saw 2\\nSkipping line 1583: expected 1 fields, saw 2\\nSkipping line 1590: expected 1 fields, saw 8\\nSkipping line 1593: expected 1 fields, saw 4\\nSkipping line 1594: expected 1 fields, saw 3\\nSkipping line 1595: expected 1 fields, saw 2\\nSkipping line 1597: expected 1 fields, saw 3\\nSkipping line 1600: expected 1 fields, saw 2\\nSkipping line 1603: expected 1 fields, saw 2\\nSkipping line 1608: expected 1 fields, saw 3\\nSkipping line 1611: expected 1 fields, saw 2\\nSkipping line 1613: expected 1 fields, saw 2\\nSkipping line 1616: expected 1 fields, saw 2\\nSkipping line 1621: expected 1 fields, saw 3\\nSkipping line 1628: expected 1 fields, saw 2\\nSkipping line 1632: expected 1 fields, saw 2\\nSkipping line 1640: expected 1 fields, saw 2\\nSkipping line 1642: expected 1 fields, saw 2\\nSkipping line 1646: expected 1 fields, saw 2\\nSkipping line 1654: expected 1 fields, saw 2\\nSkipping line 1656: expected 1 fields, saw 2\\nSkipping line 1660: expected 1 fields, saw 2\\nSkipping line 1671: expected 1 fields, saw 2\\nSkipping line 1675: expected 1 fields, saw 2\\nSkipping line 1681: expected 1 fields, saw 3\\nSkipping line 1687: expected 1 fields, saw 2\\nSkipping line 1692: expected 1 fields, saw 3\\nSkipping line 1698: expected 1 fields, saw 2\\nSkipping line 1724: expected 1 fields, saw 2\\nSkipping line 1725: expected 1 fields, saw 2\\nSkipping line 1728: expected 1 fields, saw 2\\nSkipping line 1729: expected 1 fields, saw 2\\nSkipping line 1730: expected 1 fields, saw 3\\nSkipping line 1734: expected 1 fields, saw 2\\nSkipping line 1747: expected 1 fields, saw 3\\nSkipping line 1770: expected 1 fields, saw 2\\nSkipping line 1774: expected 1 fields, saw 2\\nSkipping line 1777: expected 1 fields, saw 2\\nSkipping line 1787: expected 1 fields, saw 2\\nSkipping line 1789: expected 1 fields, saw 2\\nSkipping line 1842: expected 1 fields, saw 2\\nSkipping line 1859: expected 1 fields, saw 2\\nSkipping line 1871: expected 1 fields, saw 3\\nSkipping line 1873: expected 1 fields, saw 2\\nSkipping line 1875: expected 1 fields, saw 3\\nSkipping line 1877: expected 1 fields, saw 2\\nSkipping line 1878: expected 1 fields, saw 3\\nSkipping line 1880: expected 1 fields, saw 2\\nSkipping line 1881: expected 1 fields, saw 2\\nSkipping line 1883: expected 1 fields, saw 2\\nSkipping line 1885: expected 1 fields, saw 2\\nSkipping line 1887: expected 1 fields, saw 3\\nSkipping line 1889: expected 1 fields, saw 3\\nSkipping line 1890: expected 1 fields, saw 2\\nSkipping line 1892: expected 1 fields, saw 2\\nSkipping line 1893: expected 1 fields, saw 3\\nSkipping line 1895: expected 1 fields, saw 2\\nSkipping line 1896: expected 1 fields, saw 3\\nSkipping line 1898: expected 1 fields, saw 2\\nSkipping line 1899: expected 1 fields, saw 3\\nSkipping line 1901: expected 1 fields, saw 2\\nSkipping line 1902: expected 1 fields, saw 2\\nSkipping line 1903: expected 1 fields, saw 3\\nSkipping line 1905: expected 1 fields, saw 3\\nSkipping line 1906: expected 1 fields, saw 2\\nSkipping line 1908: expected 1 fields, saw 2\\nSkipping line 1910: expected 1 fields, saw 3\\nSkipping line 1911: expected 1 fields, saw 2\\nSkipping line 1912: expected 1 fields, saw 4\\nSkipping line 1914: expected 1 fields, saw 3\\nSkipping line 1915: expected 1 fields, saw 4\\nSkipping line 1917: expected 1 fields, saw 3\\nSkipping line 1918: expected 1 fields, saw 2\\nSkipping line 1920: expected 1 fields, saw 2\\nSkipping line 1921: expected 1 fields, saw 5\\nSkipping line 1923: expected 1 fields, saw 3\\nSkipping line 1924: expected 1 fields, saw 2\\nSkipping line 1925: expected 1 fields, saw 2\\nSkipping line 1926: expected 1 fields, saw 2\\nSkipping line 1927: expected 1 fields, saw 2\\nSkipping line 1928: expected 1 fields, saw 2\\nSkipping line 1930: expected 1 fields, saw 3\\nSkipping line 1931: expected 1 fields, saw 2\\nSkipping line 1932: expected 1 fields, saw 2\\nSkipping line 1933: expected 1 fields, saw 2\\nSkipping line 1934: expected 1 fields, saw 2\\nSkipping line 1935: expected 1 fields, saw 2\\nSkipping line 1936: expected 1 fields, saw 3\\nSkipping line 1937: expected 1 fields, saw 2\\nSkipping line 1938: expected 1 fields, saw 2\\nSkipping line 1939: expected 1 fields, saw 2\\nSkipping line 1940: expected 1 fields, saw 2\\nSkipping line 1941: expected 1 fields, saw 2\\nSkipping line 1942: expected 1 fields, saw 2\\nSkipping line 1943: expected 1 fields, saw 2\\nSkipping line 1944: expected 1 fields, saw 2\\nSkipping line 1945: expected 1 fields, saw 2\\nSkipping line 1946: expected 1 fields, saw 2\\nSkipping line 1955: expected 1 fields, saw 2\\nSkipping line 1966: expected 1 fields, saw 2\\nSkipping line 1967: expected 1 fields, saw 2\\nSkipping line 1969: expected 1 fields, saw 2\\nSkipping line 1976: expected 1 fields, saw 2\\nSkipping line 1983: expected 1 fields, saw 2\\nSkipping line 1984: expected 1 fields, saw 2\\nSkipping line 1985: expected 1 fields, saw 2\\nSkipping line 1987: expected 1 fields, saw 2\\nSkipping line 1989: expected 1 fields, saw 2\\nSkipping line 1991: expected 1 fields, saw 3\\nSkipping line 1997: expected 1 fields, saw 2\\nSkipping line 2003: expected 1 fields, saw 2\\nSkipping line 2005: expected 1 fields, saw 2\\nSkipping line 2008: expected 1 fields, saw 2\\nSkipping line 2019: expected 1 fields, saw 3\\nSkipping line 2028: expected 1 fields, saw 2\\nSkipping line 2052: expected 1 fields, saw 2\\nSkipping line 2056: expected 1 fields, saw 2\\nSkipping line 2063: expected 1 fields, saw 3\\nSkipping line 2065: expected 1 fields, saw 2\\nSkipping line 2069: expected 1 fields, saw 2\\nSkipping line 2070: expected 1 fields, saw 2\\nSkipping line 2072: expected 1 fields, saw 2\\nSkipping line 2076: expected 1 fields, saw 2\\nSkipping line 2077: expected 1 fields, saw 2\\nSkipping line 2078: expected 1 fields, saw 2\\nSkipping line 2079: expected 1 fields, saw 2\\nSkipping line 2081: expected 1 fields, saw 3\\nSkipping line 2082: expected 1 fields, saw 2\\nSkipping line 2085: expected 1 fields, saw 2\\nSkipping line 2086: expected 1 fields, saw 3\\nSkipping line 2087: expected 1 fields, saw 3\\nSkipping line 2088: expected 1 fields, saw 2\\nSkipping line 2089: expected 1 fields, saw 3\\nSkipping line 2090: expected 1 fields, saw 2\\nSkipping line 2092: expected 1 fields, saw 2\\nSkipping line 2095: expected 1 fields, saw 2\\nSkipping line 2096: expected 1 fields, saw 2\\nSkipping line 2123: expected 1 fields, saw 2\\nSkipping line 2187: expected 1 fields, saw 3\\nSkipping line 2188: expected 1 fields, saw 2\\nSkipping line 2193: expected 1 fields, saw 2\\nSkipping line 2203: expected 1 fields, saw 2\\nSkipping line 2229: expected 1 fields, saw 2\\nSkipping line 2242: expected 1 fields, saw 2\\nSkipping line 2249: expected 1 fields, saw 2\\nSkipping line 2266: expected 1 fields, saw 2\\nSkipping line 2281: expected 1 fields, saw 2\\nSkipping line 2285: expected 1 fields, saw 3\\nSkipping line 2287: expected 1 fields, saw 2\\nSkipping line 2288: expected 1 fields, saw 3\\nSkipping line 2289: expected 1 fields, saw 2\\nSkipping line 2292: expected 1 fields, saw 3\\nSkipping line 2293: expected 1 fields, saw 2\\nSkipping line 2294: expected 1 fields, saw 3\\nSkipping line 2295: expected 1 fields, saw 2\\nSkipping line 2299: expected 1 fields, saw 3\\nSkipping line 2301: expected 1 fields, saw 2\\nSkipping line 2302: expected 1 fields, saw 3\\nSkipping line 2303: expected 1 fields, saw 2\\nSkipping line 2309: expected 1 fields, saw 2\\nSkipping line 2310: expected 1 fields, saw 2\\nSkipping line 2315: expected 1 fields, saw 2\\nSkipping line 2316: expected 1 fields, saw 3\\nSkipping line 2317: expected 1 fields, saw 2\\nSkipping line 2324: expected 1 fields, saw 2\\nSkipping line 2328: expected 1 fields, saw 2\\nSkipping line 2339: expected 1 fields, saw 2\\nSkipping line 2346: expected 1 fields, saw 3\\nSkipping line 2349: expected 1 fields, saw 2\\nSkipping line 2356: expected 1 fields, saw 3\\nSkipping line 2357: expected 1 fields, saw 2\\nSkipping line 2361: expected 1 fields, saw 2\\nSkipping line 2362: expected 1 fields, saw 3\\nSkipping line 2363: expected 1 fields, saw 2\\nSkipping line 2364: expected 1 fields, saw 2\\nSkipping line 2365: expected 1 fields, saw 4\\nSkipping line 2366: expected 1 fields, saw 2\\nSkipping line 2369: expected 1 fields, saw 2\\nSkipping line 2370: expected 1 fields, saw 2\\nSkipping line 2430: expected 1 fields, saw 2\\nSkipping line 2434: expected 1 fields, saw 2\\nSkipping line 2445: expected 1 fields, saw 2\\nSkipping line 2452: expected 1 fields, saw 2\\nSkipping line 2453: expected 1 fields, saw 2\\nSkipping line 2456: expected 1 fields, saw 2\\nSkipping line 2457: expected 1 fields, saw 2\\nSkipping line 2459: expected 1 fields, saw 2\\nSkipping line 2460: expected 1 fields, saw 2\\nSkipping line 2462: expected 1 fields, saw 2\\nSkipping line 2463: expected 1 fields, saw 2\\nSkipping line 2464: expected 1 fields, saw 3\\nSkipping line 2465: expected 1 fields, saw 2\\nSkipping line 2466: expected 1 fields, saw 2\\nSkipping line 2467: expected 1 fields, saw 2\\nSkipping line 2485: expected 1 fields, saw 3\\nSkipping line 2495: expected 1 fields, saw 2\\nSkipping line 2501: expected 1 fields, saw 2\\nSkipping line 2503: expected 1 fields, saw 2\\nSkipping line 2509: expected 1 fields, saw 2\\nSkipping line 2517: expected 1 fields, saw 2\\nSkipping line 2523: expected 1 fields, saw 3\\nSkipping line 2524: expected 1 fields, saw 3\\nSkipping line 2527: expected 1 fields, saw 2\\nSkipping line 2545: expected 1 fields, saw 2\\nSkipping line 2553: expected 1 fields, saw 3\\nSkipping line 2554: expected 1 fields, saw 3\\nSkipping line 2557: expected 1 fields, saw 2\\nSkipping line 2559: expected 1 fields, saw 2\\nSkipping line 2569: expected 1 fields, saw 3\\nSkipping line 2570: expected 1 fields, saw 3\\nSkipping line 2591: expected 1 fields, saw 2\\nSkipping line 2592: expected 1 fields, saw 2\\nSkipping line 2604: expected 1 fields, saw 2\\nSkipping line 2607: expected 1 fields, saw 2\\nSkipping line 2613: expected 1 fields, saw 2\\nSkipping line 2614: expected 1 fields, saw 2\\nSkipping line 2615: expected 1 fields, saw 2\\nSkipping line 2625: expected 1 fields, saw 2\\nSkipping line 2643: expected 1 fields, saw 2\\nSkipping line 2645: expected 1 fields, saw 2\\nSkipping line 2646: expected 1 fields, saw 2\\nSkipping line 2653: expected 1 fields, saw 2\\nSkipping line 2657: expected 1 fields, saw 2\\nSkipping line 2659: expected 1 fields, saw 2\\nSkipping line 2660: expected 1 fields, saw 2\\nSkipping line 2662: expected 1 fields, saw 3\\nSkipping line 2666: expected 1 fields, saw 4\\nSkipping line 2685: expected 1 fields, saw 2\\nSkipping line 2686: expected 1 fields, saw 2\\nSkipping line 2687: expected 1 fields, saw 2\\nSkipping line 2689: expected 1 fields, saw 2\\nSkipping line 2691: expected 1 fields, saw 2\\nSkipping line 2694: expected 1 fields, saw 2\\nSkipping line 2695: expected 1 fields, saw 2\\nSkipping line 2697: expected 1 fields, saw 2\\nSkipping line 2700: expected 1 fields, saw 2\\nSkipping line 2701: expected 1 fields, saw 2\\nSkipping line 2705: expected 1 fields, saw 2\\nSkipping line 2707: expected 1 fields, saw 2\\nSkipping line 2710: expected 1 fields, saw 2\\nSkipping line 2711: expected 1 fields, saw 2\\nSkipping line 2714: expected 1 fields, saw 2\\nSkipping line 2718: expected 1 fields, saw 2\\nSkipping line 2720: expected 1 fields, saw 2\\nSkipping line 2721: expected 1 fields, saw 2\\nSkipping line 2723: expected 1 fields, saw 2\\nSkipping line 2726: expected 1 fields, saw 2\\nSkipping line 2728: expected 1 fields, saw 3\\nSkipping line 2730: expected 1 fields, saw 2\\nSkipping line 2733: expected 1 fields, saw 3\\nSkipping line 2739: expected 1 fields, saw 2\\nSkipping line 2761: expected 1 fields, saw 2\\nSkipping line 2763: expected 1 fields, saw 2\\nSkipping line 2766: expected 1 fields, saw 2\\nSkipping line 2793: expected 1 fields, saw 2\\nSkipping line 2803: expected 1 fields, saw 2\\nSkipping line 2810: expected 1 fields, saw 2\\nSkipping line 2823: expected 1 fields, saw 2\\nSkipping line 2825: expected 1 fields, saw 2\\nSkipping line 2826: expected 1 fields, saw 2\\nSkipping line 2830: expected 1 fields, saw 2\\nSkipping line 2832: expected 1 fields, saw 2\\nSkipping line 2833: expected 1 fields, saw 2\\nSkipping line 2836: expected 1 fields, saw 2\\nSkipping line 2842: expected 1 fields, saw 4\\nSkipping line 2861: expected 1 fields, saw 2\\nSkipping line 2871: expected 1 fields, saw 2\\nSkipping line 2880: expected 1 fields, saw 2\\nSkipping line 2883: expected 1 fields, saw 2\\nSkipping line 2884: expected 1 fields, saw 3\\nSkipping line 2886: expected 1 fields, saw 2\\nSkipping line 2918: expected 1 fields, saw 2\\nSkipping line 2922: expected 1 fields, saw 2\\nSkipping line 2923: expected 1 fields, saw 2\\nSkipping line 2928: expected 1 fields, saw 2\\nSkipping line 2936: expected 1 fields, saw 2\\nSkipping line 2941: expected 1 fields, saw 2\\nSkipping line 2945: expected 1 fields, saw 2\\nSkipping line 2962: expected 1 fields, saw 6\\nSkipping line 2963: expected 1 fields, saw 2\\nSkipping line 2975: expected 1 fields, saw 2\\nSkipping line 2976: expected 1 fields, saw 2\\nSkipping line 2980: expected 1 fields, saw 3\\nSkipping line 2982: expected 1 fields, saw 2\\nSkipping line 3010: expected 1 fields, saw 2\\nSkipping line 3014: expected 1 fields, saw 3\\nSkipping line 3026: expected 1 fields, saw 2\\nSkipping line 3031: expected 1 fields, saw 4\\nSkipping line 3033: expected 1 fields, saw 2\\nSkipping line 3039: expected 1 fields, saw 2\\nSkipping line 3044: expected 1 fields, saw 2\\nSkipping line 3047: expected 1 fields, saw 2\\nSkipping line 3055: expected 1 fields, saw 9\\nSkipping line 3057: expected 1 fields, saw 2\\nSkipping line 3058: expected 1 fields, saw 2\\nSkipping line 3062: expected 1 fields, saw 2\\nSkipping line 3063: expected 1 fields, saw 3\\nSkipping line 3071: expected 1 fields, saw 2\\nSkipping line 3075: expected 1 fields, saw 2\\nSkipping line 3077: expected 1 fields, saw 2\\nSkipping line 3078: expected 1 fields, saw 2\\nSkipping line 3080: expected 1 fields, saw 2\\nSkipping line 3091: expected 1 fields, saw 2\\nSkipping line 3094: expected 1 fields, saw 2\\nSkipping line 3096: expected 1 fields, saw 2\\nSkipping line 3105: expected 1 fields, saw 2\\nSkipping line 3107: expected 1 fields, saw 2\\nSkipping line 3114: expected 1 fields, saw 3\\nSkipping line 3116: expected 1 fields, saw 2\\nSkipping line 3119: expected 1 fields, saw 2\\nSkipping line 3120: expected 1 fields, saw 2\\nSkipping line 3126: expected 1 fields, saw 3\\nSkipping line 3127: expected 1 fields, saw 2\\nSkipping line 3131: expected 1 fields, saw 2\\nSkipping line 3134: expected 1 fields, saw 2\\nSkipping line 3135: expected 1 fields, saw 2\\nSkipping line 3136: expected 1 fields, saw 2\\nSkipping line 3140: expected 1 fields, saw 2\\nSkipping line 3142: expected 1 fields, saw 2\\nSkipping line 3143: expected 1 fields, saw 2\\nSkipping line 3145: expected 1 fields, saw 2\\nSkipping line 3148: expected 1 fields, saw 2\\nSkipping line 3149: expected 1 fields, saw 3\\nSkipping line 3150: expected 1 fields, saw 2\\nSkipping line 3152: expected 1 fields, saw 2\\nSkipping line 3153: expected 1 fields, saw 2\\nSkipping line 3155: expected 1 fields, saw 2\\nSkipping line 3158: expected 1 fields, saw 2\\nSkipping line 3160: expected 1 fields, saw 3\\nSkipping line 3165: expected 1 fields, saw 2\\nSkipping line 3200: expected 1 fields, saw 2\\nSkipping line 3208: expected 1 fields, saw 3\\nSkipping line 3226: expected 1 fields, saw 2\\nSkipping line 3232: expected 1 fields, saw 2\\nSkipping line 3241: expected 1 fields, saw 2\\nSkipping line 3244: expected 1 fields, saw 2\\nSkipping line 3245: expected 1 fields, saw 2\\nSkipping line 3251: expected 1 fields, saw 2\\nSkipping line 3261: expected 1 fields, saw 2\\nSkipping line 3267: expected 1 fields, saw 3\\nSkipping line 3276: expected 1 fields, saw 3\\nSkipping line 3289: expected 1 fields, saw 3\\nSkipping line 3298: expected 1 fields, saw 3\\nSkipping line 3300: expected 1 fields, saw 2\\nSkipping line 3309: expected 1 fields, saw 3\\nSkipping line 3317: expected 1 fields, saw 3\\nSkipping line 3325: expected 1 fields, saw 2\\nSkipping line 3329: expected 1 fields, saw 2\\nSkipping line 3336: expected 1 fields, saw 2\\nSkipping line 3340: expected 1 fields, saw 2\\nSkipping line 3356: expected 1 fields, saw 3\\nSkipping line 3366: expected 1 fields, saw 2\\nSkipping line 3368: expected 1 fields, saw 2\\nSkipping line 3369: expected 1 fields, saw 2\\nSkipping line 3370: expected 1 fields, saw 2\\nSkipping line 3375: expected 1 fields, saw 2\\nSkipping line 3376: expected 1 fields, saw 2\\nSkipping line 3377: expected 1 fields, saw 2\\nSkipping line 3378: expected 1 fields, saw 2\\nSkipping line 3379: expected 1 fields, saw 2\\nSkipping line 3380: expected 1 fields, saw 2\\nSkipping line 3382: expected 1 fields, saw 2\\nSkipping line 3387: expected 1 fields, saw 3\\nSkipping line 3388: expected 1 fields, saw 2\\nSkipping line 3391: expected 1 fields, saw 2\\nSkipping line 3392: expected 1 fields, saw 2\\nSkipping line 3398: expected 1 fields, saw 2\\nSkipping line 3399: expected 1 fields, saw 2\\nSkipping line 3401: expected 1 fields, saw 2\\nSkipping line 3404: expected 1 fields, saw 2\\nSkipping line 3409: expected 1 fields, saw 2\\nSkipping line 3410: expected 1 fields, saw 2\\nSkipping line 3412: expected 1 fields, saw 2\\nSkipping line 3413: expected 1 fields, saw 2\\nSkipping line 3415: expected 1 fields, saw 2\\nSkipping line 3416: expected 1 fields, saw 2\\nSkipping line 3418: expected 1 fields, saw 2\\nSkipping line 3419: expected 1 fields, saw 2\\nSkipping line 3421: expected 1 fields, saw 2\\nSkipping line 3422: expected 1 fields, saw 2\\nSkipping line 3424: expected 1 fields, saw 2\\nSkipping line 3425: expected 1 fields, saw 2\\nSkipping line 3427: expected 1 fields, saw 2\\nSkipping line 3428: expected 1 fields, saw 2\\nSkipping line 3429: expected 1 fields, saw 2\\nSkipping line 3442: expected 1 fields, saw 2\\n'\n"
          ]
        }
      ]
    },
    {
      "cell_type": "code",
      "source": [
        "def remove_duplicate(ngram_path, ngram_clean_path):\n",
        "  lines_seen = set() # holds lines already seen\n",
        "  outfile = open(ngram_clean_path, \"w\")\n",
        "  for line in open(ngram_path, \"r\"):\n",
        "      if line not in lines_seen: # not a duplicate\n",
        "          outfile.write(line)\n",
        "          lines_seen.add(line)\n",
        "  outfile.close()"
      ],
      "metadata": {
        "id": "u-HGWtzhePqS"
      },
      "execution_count": null,
      "outputs": []
    },
    {
      "cell_type": "code",
      "source": [
        "# string = \"hello, [delete this]\"\n",
        "# length = len(string)\n",
        "# start = string.find('[')\n",
        "# ending = string.find(']')\n",
        "# print(string[0:start] + string[ending + 1:-1])\n",
        "import re\n",
        "def remove_uncommon(ngram_path, ngram_common_path)\n",
        "  outfile = open(ngram_common_path, \"w\")\n",
        "  pattern = re.compile(\"^\\w+( +\\w+)*\")\n",
        "  for line in open(ngram_path, \"r\"):\n",
        "    # if found match (entire string matches pattern)\n",
        "    if pattern.fullmatch(line.strip()) is not None:\n",
        "      outfile.write(line)\n",
        "  outfile.close()"
      ],
      "metadata": {
        "colab": {
          "base_uri": "https://localhost:8080/"
        },
        "id": "hb600OtPa7dA",
        "outputId": "aa05a446-9cc2-49dc-811d-4f706239c6b1"
      },
      "execution_count": null,
      "outputs": [
        {
          "output_type": "stream",
          "name": "stdout",
          "text": [
            "<re.Match object; span=(0, 18), match='Hello this is good'>\n"
          ]
        }
      ]
    },
    {
      "cell_type": "code",
      "metadata": {
        "colab": {
          "base_uri": "https://localhost:8080/"
        },
        "id": "rv8tepMSzUH5",
        "outputId": "fe94bfd2-d6ef-43f9-da74-dd29ad056341"
      },
      "source": [
        "!git clone https://github.com/rpryzant/delete_retrieve_generate.git"
      ],
      "execution_count": null,
      "outputs": [
        {
          "output_type": "stream",
          "name": "stdout",
          "text": [
            "Cloning into 'delete_retrieve_generate'...\n",
            "remote: Enumerating objects: 207, done.\u001b[K\n",
            "remote: Counting objects: 100% (22/22), done.\u001b[K\n",
            "remote: Compressing objects: 100% (22/22), done.\u001b[K\n",
            "remote: Total 207 (delta 8), reused 0 (delta 0), pack-reused 185\u001b[K\n",
            "Receiving objects: 100% (207/207), 23.87 MiB | 7.31 MiB/s, done.\n",
            "Resolving deltas: 100% (101/101), done.\n"
          ]
        }
      ]
    },
    {
      "cell_type": "code",
      "metadata": {
        "colab": {
          "base_uri": "https://localhost:8080/",
          "height": 1000
        },
        "id": "jMg-ScxzzeJ1",
        "outputId": "5d147491-dea0-437b-bca2-7b191a2fe05d"
      },
      "source": [
        "%cd delete_retrieve_generate/\n",
        "!pip3 install -r requirements.txt"
      ],
      "execution_count": null,
      "outputs": [
        {
          "output_type": "stream",
          "name": "stdout",
          "text": [
            "/content/delete_retrieve_generate\n",
            "Requirement already satisfied: editdistance==0.5.3 in /usr/local/lib/python3.7/dist-packages (from -r requirements.txt (line 1)) (0.5.3)\n",
            "Collecting joblib==0.13.2\n",
            "  Downloading joblib-0.13.2-py2.py3-none-any.whl (278 kB)\n",
            "\u001b[K     |████████████████████████████████| 278 kB 5.4 MB/s \n",
            "\u001b[?25hCollecting numpy==1.16.4\n",
            "  Downloading numpy-1.16.4-cp37-cp37m-manylinux1_x86_64.whl (17.3 MB)\n",
            "\u001b[K     |████████████████████████████████| 17.3 MB 552 kB/s \n",
            "\u001b[?25hCollecting Pillow==8.1.1\n",
            "  Downloading Pillow-8.1.1-cp37-cp37m-manylinux1_x86_64.whl (2.2 MB)\n",
            "\u001b[K     |████████████████████████████████| 2.2 MB 29.4 MB/s \n",
            "\u001b[?25hCollecting protobuf==3.8.0\n",
            "  Downloading protobuf-3.8.0-cp37-cp37m-manylinux1_x86_64.whl (1.2 MB)\n",
            "\u001b[K     |████████████████████████████████| 1.2 MB 41.9 MB/s \n",
            "\u001b[?25hRequirement already satisfied: sklearn in /usr/local/lib/python3.7/dist-packages (from -r requirements.txt (line 6)) (0.0)\n",
            "Collecting six==1.12.0\n",
            "  Downloading six-1.12.0-py2.py3-none-any.whl (10 kB)\n",
            "Collecting tensorboardX==1.7\n",
            "  Downloading tensorboardX-1.7-py2.py3-none-any.whl (238 kB)\n",
            "\u001b[K     |████████████████████████████████| 238 kB 39.9 MB/s \n",
            "\u001b[?25hCollecting torch==1.1.0\n",
            "  Downloading torch-1.1.0-cp37-cp37m-manylinux1_x86_64.whl (676.9 MB)\n",
            "\u001b[K     |████████████████████████████████| 676.9 MB 4.0 kB/s \n",
            "\u001b[?25hCollecting torchvision==0.3.0\n",
            "  Downloading torchvision-0.3.0-cp37-cp37m-manylinux1_x86_64.whl (2.6 MB)\n",
            "\u001b[K     |████████████████████████████████| 2.6 MB 40.2 MB/s \n",
            "\u001b[?25hRequirement already satisfied: nltk in /usr/local/lib/python3.7/dist-packages (from -r requirements.txt (line 11)) (3.2.5)\n",
            "Requirement already satisfied: setuptools in /usr/local/lib/python3.7/dist-packages (from protobuf==3.8.0->-r requirements.txt (line 5)) (57.4.0)\n",
            "Requirement already satisfied: scikit-learn in /usr/local/lib/python3.7/dist-packages (from sklearn->-r requirements.txt (line 6)) (1.0.1)\n",
            "Requirement already satisfied: scipy>=1.1.0 in /usr/local/lib/python3.7/dist-packages (from scikit-learn->sklearn->-r requirements.txt (line 6)) (1.4.1)\n",
            "Requirement already satisfied: threadpoolctl>=2.0.0 in /usr/local/lib/python3.7/dist-packages (from scikit-learn->sklearn->-r requirements.txt (line 6)) (3.0.0)\n",
            "Installing collected packages: numpy, six, joblib, torch, protobuf, Pillow, torchvision, tensorboardX\n",
            "  Attempting uninstall: numpy\n",
            "    Found existing installation: numpy 1.19.5\n",
            "    Uninstalling numpy-1.19.5:\n",
            "      Successfully uninstalled numpy-1.19.5\n",
            "  Attempting uninstall: six\n",
            "    Found existing installation: six 1.15.0\n",
            "    Uninstalling six-1.15.0:\n",
            "      Successfully uninstalled six-1.15.0\n",
            "  Attempting uninstall: joblib\n",
            "    Found existing installation: joblib 1.1.0\n",
            "    Uninstalling joblib-1.1.0:\n",
            "      Successfully uninstalled joblib-1.1.0\n",
            "  Attempting uninstall: torch\n",
            "    Found existing installation: torch 1.10.0+cu111\n",
            "    Uninstalling torch-1.10.0+cu111:\n",
            "      Successfully uninstalled torch-1.10.0+cu111\n",
            "  Attempting uninstall: protobuf\n",
            "    Found existing installation: protobuf 3.17.3\n",
            "    Uninstalling protobuf-3.17.3:\n",
            "      Successfully uninstalled protobuf-3.17.3\n",
            "  Attempting uninstall: Pillow\n",
            "    Found existing installation: Pillow 7.1.2\n",
            "    Uninstalling Pillow-7.1.2:\n",
            "      Successfully uninstalled Pillow-7.1.2\n",
            "  Attempting uninstall: torchvision\n",
            "    Found existing installation: torchvision 0.11.1+cu111\n",
            "    Uninstalling torchvision-0.11.1+cu111:\n",
            "      Successfully uninstalled torchvision-0.11.1+cu111\n",
            "\u001b[31mERROR: pip's dependency resolver does not currently take into account all the packages that are installed. This behaviour is the source of the following dependency conflicts.\n",
            "xarray 0.18.2 requires numpy>=1.17, but you have numpy 1.16.4 which is incompatible.\n",
            "torchtext 0.11.0 requires torch==1.10.0, but you have torch 1.1.0 which is incompatible.\n",
            "torchaudio 0.10.0+cu111 requires torch==1.10.0, but you have torch 1.1.0 which is incompatible.\n",
            "tensorflow 2.7.0 requires protobuf>=3.9.2, but you have protobuf 3.8.0 which is incompatible.\n",
            "tensorflow-metadata 1.4.0 requires protobuf<4,>=3.13, but you have protobuf 3.8.0 which is incompatible.\n",
            "scikit-image 0.18.3 requires numpy>=1.16.5, but you have numpy 1.16.4 which is incompatible.\n",
            "pywavelets 1.2.0 requires numpy>=1.17.3, but you have numpy 1.16.4 which is incompatible.\n",
            "pyerfa 2.0.0.1 requires numpy>=1.17, but you have numpy 1.16.4 which is incompatible.\n",
            "pyarrow 3.0.0 requires numpy>=1.16.6, but you have numpy 1.16.4 which is incompatible.\n",
            "librosa 0.8.1 requires joblib>=0.14, but you have joblib 0.13.2 which is incompatible.\n",
            "kapre 0.3.6 requires numpy>=1.18.5, but you have numpy 1.16.4 which is incompatible.\n",
            "jaxlib 0.1.71+cuda111 requires numpy>=1.18, but you have numpy 1.16.4 which is incompatible.\n",
            "jax 0.2.25 requires numpy>=1.18, but you have numpy 1.16.4 which is incompatible.\n",
            "googleapis-common-protos 1.53.0 requires protobuf>=3.12.0, but you have protobuf 3.8.0 which is incompatible.\n",
            "google-colab 1.0.0 requires six~=1.15.0, but you have six 1.12.0 which is incompatible.\n",
            "google-api-python-client 1.12.8 requires six<2dev,>=1.13.0, but you have six 1.12.0 which is incompatible.\n",
            "google-api-core 1.26.3 requires protobuf>=3.12.0, but you have protobuf 3.8.0 which is incompatible.\n",
            "google-api-core 1.26.3 requires six>=1.13.0, but you have six 1.12.0 which is incompatible.\n",
            "datascience 0.10.6 requires folium==0.2.1, but you have folium 0.8.3 which is incompatible.\n",
            "cupy-cuda111 9.4.0 requires numpy<1.24,>=1.17, but you have numpy 1.16.4 which is incompatible.\n",
            "astropy 4.3.1 requires numpy>=1.17, but you have numpy 1.16.4 which is incompatible.\n",
            "albumentations 0.1.12 requires imgaug<0.2.7,>=0.2.5, but you have imgaug 0.2.9 which is incompatible.\u001b[0m\n",
            "Successfully installed Pillow-8.1.1 joblib-0.13.2 numpy-1.16.4 protobuf-3.8.0 six-1.12.0 tensorboardX-1.7 torch-1.1.0 torchvision-0.3.0\n"
          ]
        },
        {
          "output_type": "display_data",
          "data": {
            "application/vnd.colab-display-data+json": {
              "pip_warning": {
                "packages": [
                  "PIL",
                  "google",
                  "numpy",
                  "six"
                ]
              }
            }
          },
          "metadata": {}
        }
      ]
    },
    {
      "cell_type": "code",
      "metadata": {
        "colab": {
          "base_uri": "https://localhost:8080/"
        },
        "id": "wnj7eV2A4Izd",
        "outputId": "624d7cb9-0599-4a6b-e808-5aacd2f9b7b0"
      },
      "source": [
        "!python train.py --config /content/gdrive/MyDrive/595FinalProject/sentiment_lyrics/lyrics_config.json"
      ],
      "execution_count": null,
      "outputs": [
        {
          "output_type": "stream",
          "name": "stdout",
          "text": [
            "2021-12-14 08:41:21,419 - INFO - Reading data ...\n",
            "2021-12-14 08:41:33,684 - INFO - ...done!\n",
            "/usr/local/lib/python3.7/dist-packages/torch/nn/modules/rnn.py:54: UserWarning: dropout option adds dropout after all but last recurrent layer, so non-zero dropout expects num_layers greater than 1, but got dropout=0.2 and num_layers=1\n",
            "  \"num_layers={}\".format(dropout, num_layers))\n",
            "2021-12-14 08:41:35,827 - INFO - MODEL HAS 10621333 params\n",
            "2021-12-14 08:41:38,107 - INFO - EPOCH: 0 ITER: 0.0/344.71875 EPS: 22717.92 LOSS: 9.2113 METRIC: 0.0000\n",
            "2021-12-14 08:47:35,474 - INFO - EPOCH: 0 ITER: 200.0/344.71875 EPS: 143.27 LOSS: 6.0072 METRIC: 0.0000\n",
            "2021-12-14 08:51:29,093 - INFO - EPOCH 0 COMPLETE. EVALUATING...\n",
            "768/1000...2021-12-14 08:51:55,971 - INFO - METRIC: 6.052421450614929. TIME: 26.88s CHECKPOINTING...\n",
            "2021-12-14 08:51:57,998 - INFO - EPOCH: 1 ITER: 0.0/344.71875 EPS: 195.03 LOSS: 5.4560 METRIC: 6.0524\n",
            "2021-12-14 08:57:31,951 - INFO - EPOCH: 1 ITER: 200.0/344.71875 EPS: 153.32 LOSS: 5.1281 METRIC: 6.0524\n",
            "2021-12-14 09:01:29,083 - INFO - EPOCH 1 COMPLETE. EVALUATING...\n",
            "768/1000...2021-12-14 09:01:55,920 - INFO - METRIC: 5.889457106590271. TIME: 26.84s CHECKPOINTING...\n",
            "2021-12-14 09:01:58,150 - INFO - EPOCH: 2 ITER: 0.0/344.71875 EPS: 192.34 LOSS: 4.9299 METRIC: 5.8895\n",
            "2021-12-14 09:07:39,300 - INFO - EPOCH: 2 ITER: 200.0/344.71875 EPS: 150.08 LOSS: 4.8027 METRIC: 5.8895\n",
            "2021-12-14 09:11:44,552 - INFO - EPOCH 2 COMPLETE. EVALUATING...\n",
            "768/1000...2021-12-14 09:12:12,898 - INFO - METRIC: 5.80948281288147. TIME: 28.34s CHECKPOINTING...\n",
            "2021-12-14 09:12:15,301 - INFO - EPOCH: 3 ITER: 0.0/344.71875 EPS: 185.51 LOSS: 4.7326 METRIC: 5.8095\n",
            "2021-12-14 09:17:56,407 - INFO - EPOCH: 3 ITER: 200.0/344.71875 EPS: 150.10 LOSS: 4.6225 METRIC: 5.8095\n",
            "2021-12-14 09:22:09,950 - INFO - EPOCH 3 COMPLETE. EVALUATING...\n",
            "768/1000...2021-12-14 09:22:39,493 - INFO - METRIC: 5.734840750694275. TIME: 29.54s CHECKPOINTING...\n",
            "2021-12-14 09:22:41,488 - INFO - EPOCH: 4 ITER: 0.0/344.71875 EPS: 179.60 LOSS: 4.5526 METRIC: 5.7348\n",
            "2021-12-14 09:28:30,855 - INFO - EPOCH: 4 ITER: 200.0/344.71875 EPS: 146.55 LOSS: 4.4443 METRIC: 5.7348\n",
            "2021-12-14 09:32:28,647 - INFO - EPOCH 4 COMPLETE. EVALUATING...\n",
            "768/1000...2021-12-14 09:32:55,225 - INFO - METRIC: 5.895778656005859. TIME: 26.58s CHECKPOINTING...\n",
            "2021-12-14 09:32:56,972 - INFO - EPOCH: 5 ITER: 0.0/344.71875 EPS: 192.40 LOSS: 4.3905 METRIC: 5.8958\n",
            "2021-12-14 09:38:34,354 - INFO - EPOCH: 5 ITER: 200.0/344.71875 EPS: 151.76 LOSS: 4.2677 METRIC: 5.8958\n",
            "2021-12-14 09:42:36,505 - INFO - EPOCH 5 COMPLETE. EVALUATING...\n",
            "768/1000...2021-12-14 09:43:03,839 - INFO - METRIC: 5.978579521179199. TIME: 27.33s CHECKPOINTING...\n",
            "2021-12-14 09:43:05,665 - INFO - EPOCH: 6 ITER: 0.0/344.71875 EPS: 188.71 LOSS: 4.2112 METRIC: 5.9786\n",
            "2021-12-14 09:48:41,954 - INFO - EPOCH: 6 ITER: 200.0/344.71875 EPS: 152.25 LOSS: 4.1195 METRIC: 5.9786\n",
            "2021-12-14 09:52:48,280 - INFO - EPOCH 6 COMPLETE. EVALUATING...\n",
            "768/1000...2021-12-14 09:53:13,644 - INFO - METRIC: 6.017904996871948. TIME: 25.36s CHECKPOINTING...\n",
            "2021-12-14 09:53:15,244 - INFO - EPOCH: 7 ITER: 0.0/344.71875 EPS: 187.35 LOSS: 4.0484 METRIC: 6.0179\n",
            "2021-12-14 09:58:42,928 - INFO - EPOCH: 7 ITER: 200.0/344.71875 EPS: 156.25 LOSS: 3.9512 METRIC: 6.0179\n",
            "2021-12-14 10:02:52,585 - INFO - EPOCH 7 COMPLETE. EVALUATING...\n",
            "768/1000...2021-12-14 10:03:19,670 - INFO - METRIC: 6.134382009506226. TIME: 27.08s CHECKPOINTING...\n",
            "2021-12-14 10:03:21,187 - INFO - EPOCH: 8 ITER: 0.0/344.71875 EPS: 184.00 LOSS: 3.8900 METRIC: 6.1344\n",
            "2021-12-14 10:08:58,590 - INFO - EPOCH: 8 ITER: 200.0/344.71875 EPS: 151.75 LOSS: 3.7857 METRIC: 6.1344\n",
            "2021-12-14 10:13:05,287 - INFO - EPOCH 8 COMPLETE. EVALUATING...\n",
            "768/1000...2021-12-14 10:13:33,465 - INFO - METRIC: 6.381524205207825. TIME: 28.18s CHECKPOINTING...\n",
            "2021-12-14 10:13:34,939 - INFO - EPOCH: 9 ITER: 0.0/344.71875 EPS: 185.27 LOSS: 3.7301 METRIC: 6.3815\n",
            "2021-12-14 10:19:13,061 - INFO - EPOCH: 9 ITER: 200.0/344.71875 EPS: 151.43 LOSS: 3.6347 METRIC: 6.3815\n",
            "2021-12-14 10:23:29,045 - INFO - EPOCH 9 COMPLETE. EVALUATING...\n",
            "768/1000...2021-12-14 10:23:59,121 - INFO - METRIC: 6.522407650947571. TIME: 30.08s CHECKPOINTING...\n",
            "2021-12-14 10:24:01,109 - INFO - EPOCH: 10 ITER: 0.0/344.71875 EPS: 177.75 LOSS: 3.5709 METRIC: 6.5224\n",
            "2021-12-14 10:30:07,399 - INFO - EPOCH: 10 ITER: 200.0/344.71875 EPS: 139.78 LOSS: 3.4911 METRIC: 6.5224\n",
            "2021-12-14 10:34:27,065 - INFO - EPOCH 10 COMPLETE. EVALUATING...\n",
            "768/1000...2021-12-14 10:34:56,284 - INFO - METRIC: 6.700383305549622. TIME: 29.22s CHECKPOINTING...\n",
            "2021-12-14 10:34:57,916 - INFO - EPOCH: 11 ITER: 0.0/344.71875 EPS: 176.24 LOSS: 3.4434 METRIC: 6.7004\n",
            "2021-12-14 10:41:07,999 - INFO - EPOCH: 11 ITER: 200.0/344.71875 EPS: 138.35 LOSS: 3.3503 METRIC: 6.7004\n",
            "2021-12-14 10:45:34,172 - INFO - EPOCH 11 COMPLETE. EVALUATING...\n",
            "768/1000...2021-12-14 10:46:04,364 - INFO - METRIC: 6.80379581451416. TIME: 30.19s CHECKPOINTING...\n",
            "2021-12-14 10:46:06,834 - INFO - EPOCH: 12 ITER: 0.0/344.71875 EPS: 171.33 LOSS: 3.2869 METRIC: 6.8038\n",
            "2021-12-14 10:52:16,127 - INFO - EPOCH: 12 ITER: 200.0/344.71875 EPS: 138.64 LOSS: 3.2116 METRIC: 6.8038\n",
            "2021-12-14 10:56:36,326 - INFO - EPOCH 12 COMPLETE. EVALUATING...\n",
            "768/1000...2021-12-14 10:57:05,880 - INFO - METRIC: 6.996774196624756. TIME: 29.55s CHECKPOINTING...\n",
            "2021-12-14 10:57:07,994 - INFO - EPOCH: 13 ITER: 0.0/344.71875 EPS: 175.42 LOSS: 3.1343 METRIC: 6.9968\n",
            "2021-12-14 11:03:09,099 - INFO - EPOCH: 13 ITER: 200.0/344.71875 EPS: 141.79 LOSS: 3.0764 METRIC: 6.9968\n",
            "2021-12-14 11:07:23,092 - INFO - EPOCH 13 COMPLETE. EVALUATING...\n",
            "768/1000...2021-12-14 11:07:52,467 - INFO - METRIC: 7.107652544975281. TIME: 29.37s CHECKPOINTING...\n",
            "2021-12-14 11:07:54,939 - INFO - EPOCH: 14 ITER: 0.0/344.71875 EPS: 179.12 LOSS: 3.0116 METRIC: 7.1077\n",
            "2021-12-14 11:13:53,091 - INFO - EPOCH: 14 ITER: 200.0/344.71875 EPS: 142.96 LOSS: 2.9272 METRIC: 7.1077\n",
            "2021-12-14 11:18:16,135 - INFO - EPOCH 14 COMPLETE. EVALUATING...\n",
            "768/1000...2021-12-14 11:18:45,880 - INFO - METRIC: 7.226879000663757. TIME: 29.74s CHECKPOINTING...\n",
            "2021-12-14 11:18:48,609 - INFO - EPOCH: 15 ITER: 0.0/344.71875 EPS: 173.26 LOSS: 2.8947 METRIC: 7.2269\n",
            "2021-12-14 11:24:57,965 - INFO - EPOCH: 15 ITER: 200.0/344.71875 EPS: 138.62 LOSS: 2.8157 METRIC: 7.2269\n",
            "2021-12-14 11:29:13,481 - INFO - EPOCH 15 COMPLETE. EVALUATING...\n",
            "768/1000...2021-12-14 11:29:42,584 - INFO - METRIC: 7.405564785003662. TIME: 29.10s CHECKPOINTING...\n",
            "2021-12-14 11:29:44,241 - INFO - EPOCH: 16 ITER: 0.0/344.71875 EPS: 178.85 LOSS: 2.7668 METRIC: 7.4056\n",
            "2021-12-14 11:35:57,482 - INFO - EPOCH: 16 ITER: 200.0/344.71875 EPS: 137.18 LOSS: 2.7311 METRIC: 7.4056\n",
            "2021-12-14 11:40:17,442 - INFO - EPOCH 16 COMPLETE. EVALUATING...\n",
            "768/1000...2021-12-14 11:40:47,799 - INFO - METRIC: 7.443251371383667. TIME: 30.36s CHECKPOINTING...\n",
            "2021-12-14 11:40:49,395 - INFO - EPOCH: 17 ITER: 0.0/344.71875 EPS: 175.40 LOSS: 2.6409 METRIC: 7.4433\n",
            "2021-12-14 11:46:45,834 - INFO - EPOCH: 17 ITER: 200.0/344.71875 EPS: 143.64 LOSS: 2.6042 METRIC: 7.4433\n",
            "2021-12-14 11:51:08,197 - INFO - EPOCH 17 COMPLETE. EVALUATING...\n",
            "768/1000...2021-12-14 11:51:37,735 - INFO - METRIC: 7.564861536026001. TIME: 29.54s CHECKPOINTING...\n",
            "2021-12-14 11:51:39,734 - INFO - EPOCH: 18 ITER: 0.0/344.71875 EPS: 174.21 LOSS: 2.5581 METRIC: 7.5649\n",
            "2021-12-14 11:57:34,068 - INFO - EPOCH: 18 ITER: 200.0/344.71875 EPS: 144.50 LOSS: 2.5300 METRIC: 7.5649\n",
            "2021-12-14 12:01:56,671 - INFO - EPOCH 18 COMPLETE. EVALUATING...\n",
            "768/1000...2021-12-14 12:02:26,398 - INFO - METRIC: 7.657104849815369. TIME: 29.73s CHECKPOINTING...\n",
            "2021-12-14 12:02:29,050 - INFO - EPOCH: 19 ITER: 0.0/344.71875 EPS: 173.57 LOSS: 2.4825 METRIC: 7.6571\n",
            "2021-12-14 12:08:33,512 - INFO - EPOCH: 19 ITER: 200.0/344.71875 EPS: 140.48 LOSS: 2.4501 METRIC: 7.6571\n",
            "2021-12-14 12:12:52,473 - INFO - EPOCH 19 COMPLETE. EVALUATING...\n",
            "768/1000...2021-12-14 12:13:22,358 - INFO - METRIC: 7.719662189483643. TIME: 29.88s CHECKPOINTING...\n",
            "2021-12-14 12:13:24,626 - INFO - EPOCH: 20 ITER: 0.0/344.71875 EPS: 175.88 LOSS: 2.4140 METRIC: 7.7197\n",
            "2021-12-14 12:19:19,547 - INFO - EPOCH: 20 ITER: 200.0/344.71875 EPS: 144.26 LOSS: 2.3474 METRIC: 7.7197\n",
            "2021-12-14 12:23:14,396 - INFO - EPOCH 20 COMPLETE. EVALUATING...\n",
            "768/1000...2021-12-14 12:23:40,517 - INFO - METRIC: 7.804680585861206. TIME: 26.12s CHECKPOINTING...\n",
            "2021-12-14 12:23:42,386 - INFO - EPOCH: 21 ITER: 0.0/344.71875 EPS: 194.80 LOSS: 2.3222 METRIC: 7.8047\n",
            "2021-12-14 12:29:21,180 - INFO - EPOCH: 21 ITER: 200.0/344.71875 EPS: 151.12 LOSS: 2.2762 METRIC: 7.8047\n",
            "2021-12-14 12:33:12,848 - INFO - EPOCH 21 COMPLETE. EVALUATING...\n",
            "768/1000...2021-12-14 12:33:37,864 - INFO - METRIC: 7.902053713798523. TIME: 25.02s CHECKPOINTING...\n",
            "2021-12-14 12:33:39,748 - INFO - EPOCH: 22 ITER: 0.0/344.71875 EPS: 198.01 LOSS: 2.2677 METRIC: 7.9021\n",
            "2021-12-14 12:39:14,638 - INFO - EPOCH: 22 ITER: 200.0/344.71875 EPS: 152.89 LOSS: 2.2266 METRIC: 7.9021\n",
            "2021-12-14 12:43:05,915 - INFO - EPOCH 22 COMPLETE. EVALUATING...\n",
            "768/1000...2021-12-14 12:43:30,787 - INFO - METRIC: 7.973331451416016. TIME: 24.87s CHECKPOINTING...\n",
            "2021-12-14 12:43:32,394 - INFO - EPOCH: 23 ITER: 0.0/344.71875 EPS: 198.64 LOSS: 2.1911 METRIC: 7.9733\n",
            "2021-12-14 12:49:09,673 - INFO - EPOCH: 23 ITER: 200.0/344.71875 EPS: 151.80 LOSS: 2.1771 METRIC: 7.9733\n",
            "2021-12-14 12:53:05,731 - INFO - EPOCH 23 COMPLETE. EVALUATING...\n",
            "768/1000...2021-12-14 12:53:32,808 - INFO - METRIC: 7.976848483085632. TIME: 27.08s CHECKPOINTING...\n",
            "2021-12-14 12:53:34,483 - INFO - EPOCH: 24 ITER: 0.0/344.71875 EPS: 193.35 LOSS: 2.1440 METRIC: 7.9768\n",
            "2021-12-14 12:59:09,077 - INFO - EPOCH: 24 ITER: 200.0/344.71875 EPS: 153.02 LOSS: 2.1216 METRIC: 7.9768\n",
            "2021-12-14 13:03:05,144 - INFO - EPOCH 24 COMPLETE. EVALUATING...\n",
            "768/1000...2021-12-14 13:03:33,239 - INFO - METRIC: 8.10472297668457. TIME: 28.09s CHECKPOINTING...\n",
            "2021-12-14 13:03:35,561 - INFO - EPOCH: 25 ITER: 0.0/344.71875 EPS: 192.13 LOSS: 2.0525 METRIC: 8.1047\n",
            "2021-12-14 13:09:09,350 - INFO - EPOCH: 25 ITER: 200.0/344.71875 EPS: 153.39 LOSS: 2.0675 METRIC: 8.1047\n",
            "2021-12-14 13:13:03,850 - INFO - EPOCH 25 COMPLETE. EVALUATING...\n",
            "768/1000...2021-12-14 13:13:30,909 - INFO - METRIC: 8.213459968566895. TIME: 27.06s CHECKPOINTING...\n",
            "2021-12-14 13:13:33,432 - INFO - EPOCH: 26 ITER: 0.0/344.71875 EPS: 193.88 LOSS: 2.0097 METRIC: 8.2135\n",
            "2021-12-14 13:19:09,021 - INFO - EPOCH: 26 ITER: 200.0/344.71875 EPS: 152.57 LOSS: 2.0354 METRIC: 8.2135\n",
            "2021-12-14 13:23:16,114 - INFO - EPOCH 26 COMPLETE. EVALUATING...\n",
            "768/1000...2021-12-14 13:23:44,679 - INFO - METRIC: 8.19502568244934. TIME: 28.56s CHECKPOINTING...\n",
            "2021-12-14 13:23:45,980 - INFO - EPOCH: 27 ITER: 0.0/344.71875 EPS: 184.87 LOSS: 1.9836 METRIC: 8.1950\n",
            "2021-12-14 13:29:24,608 - INFO - EPOCH: 27 ITER: 200.0/344.71875 EPS: 151.20 LOSS: 1.9674 METRIC: 8.1950\n",
            "2021-12-14 13:33:22,011 - INFO - EPOCH 27 COMPLETE. EVALUATING...\n",
            "768/1000...2021-12-14 13:33:48,155 - INFO - METRIC: 8.327422857284546. TIME: 26.14s CHECKPOINTING...\n",
            "2021-12-14 13:33:50,066 - INFO - EPOCH: 28 ITER: 0.0/344.71875 EPS: 192.87 LOSS: 1.9497 METRIC: 8.3274\n",
            "2021-12-14 13:39:26,084 - INFO - EPOCH: 28 ITER: 200.0/344.71875 EPS: 152.37 LOSS: 1.9598 METRIC: 8.3274\n",
            "2021-12-14 13:43:20,418 - INFO - EPOCH 28 COMPLETE. EVALUATING...\n",
            "768/1000...2021-12-14 13:43:48,172 - INFO - METRIC: 8.141393184661865. TIME: 27.75s CHECKPOINTING...\n",
            "2021-12-14 13:43:49,828 - INFO - EPOCH: 29 ITER: 0.0/344.71875 EPS: 194.13 LOSS: 1.9133 METRIC: 8.1414\n",
            "2021-12-14 13:49:18,209 - INFO - EPOCH: 29 ITER: 200.0/344.71875 EPS: 155.92 LOSS: 1.8992 METRIC: 8.1414\n",
            "2021-12-14 13:53:16,987 - INFO - EPOCH 29 COMPLETE. EVALUATING...\n",
            "768/1000...2021-12-14 13:53:44,777 - INFO - METRIC: 8.196372270584106. TIME: 27.79s CHECKPOINTING...\n",
            "2021-12-14 13:53:46,322 - INFO - EPOCH: 30 ITER: 0.0/344.71875 EPS: 190.96 LOSS: 1.8968 METRIC: 8.1964\n",
            "2021-12-14 13:59:31,789 - INFO - EPOCH: 30 ITER: 200.0/344.71875 EPS: 148.21 LOSS: 1.8725 METRIC: 8.1964\n",
            "2021-12-14 14:03:39,128 - INFO - EPOCH 30 COMPLETE. EVALUATING...\n",
            "768/1000...2021-12-14 14:04:07,033 - INFO - METRIC: 8.27942442893982. TIME: 27.90s CHECKPOINTING...\n",
            "2021-12-14 14:04:08,285 - INFO - EPOCH: 31 ITER: 0.0/344.71875 EPS: 185.18 LOSS: 1.8285 METRIC: 8.2794\n",
            "2021-12-14 14:10:01,050 - INFO - EPOCH: 31 ITER: 200.0/344.71875 EPS: 145.14 LOSS: 1.8190 METRIC: 8.2794\n"
          ]
        }
      ]
    },
    {
      "cell_type": "code",
      "metadata": {
        "colab": {
          "base_uri": "https://localhost:8080/"
        },
        "id": "ITp-nZERgkHW",
        "outputId": "ef2a4f03-1984-4331-aed5-ed4e0d9fb799"
      },
      "source": [
        "!python inference.py --config /content/gdrive/MyDrive/595FinalProject/sentiment_lyrics/lyrics_config.json --checkpoint /content/gdrive/MyDrive/595FinalProject/sentiment_lyrics/working_dir_classifier_test/model.28.ckpt"
      ],
      "execution_count": null,
      "outputs": [
        {
          "output_type": "stream",
          "name": "stdout",
          "text": [
            "2021-12-16 08:19:15,670 - INFO - Reading data ...\n",
            "2021-12-16 08:19:24,959 - INFO - ...done!\n",
            "/usr/local/lib/python3.7/dist-packages/torch/nn/modules/rnn.py:54: UserWarning: dropout option adds dropout after all but last recurrent layer, so non-zero dropout expects num_layers greater than 1, but got dropout=0.2 and num_layers=1\n",
            "  \"num_layers={}\".format(dropout, num_layers))\n",
            "2021-12-16 08:19:25,089 - INFO - MODEL HAS 10621333 params\n",
            "Load from /content/gdrive/MyDrive/595FinalProject/sentiment_lyrics/working_dir_classifier_test/model.28.ckpt sucessful!\n",
            "768/1000...2021-12-16 08:21:29,046 - INFO - INFERENCE DONE. Outputs written to /content/gdrive/MyDrive/595FinalProject/sentiment_lyrics/working_dir_classifier_test/preds\n",
            "2021-12-16 08:21:29,046 - INFO - \tEdit distance: 9.545\n",
            "2021-12-16 08:21:29,046 - INFO - \tBLEU: 0\n",
            "2021-12-16 08:21:29,047 - INFO - \tLPP: 8.157905220985413\n"
          ]
        }
      ]
    }
  ]
}