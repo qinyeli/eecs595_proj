{
  "nbformat": 4,
  "nbformat_minor": 0,
  "metadata": {
    "colab": {
      "name": "phonetic_analysis.ipynb",
      "provenance": [],
      "collapsed_sections": []
    },
    "kernelspec": {
      "name": "python3",
      "display_name": "Python 3"
    },
    "language_info": {
      "name": "python"
    }
  },
  "cells": [
    {
      "cell_type": "code",
      "source": [
        "!pip install jellyfish"
      ],
      "metadata": {
        "colab": {
          "base_uri": "https://localhost:8080/"
        },
        "id": "G7WHQ6lbliey",
        "outputId": "5bbea241-2acb-4657-d036-3b21eedb575a"
      },
      "execution_count": null,
      "outputs": [
        {
          "output_type": "stream",
          "name": "stdout",
          "text": [
            "Collecting jellyfish\n",
            "  Downloading jellyfish-0.8.9.tar.gz (137 kB)\n",
            "\u001b[?25l\r\u001b[K     |██▍                             | 10 kB 18.8 MB/s eta 0:00:01\r\u001b[K     |████▊                           | 20 kB 24.2 MB/s eta 0:00:01\r\u001b[K     |███████▏                        | 30 kB 11.8 MB/s eta 0:00:01\r\u001b[K     |█████████▌                      | 40 kB 9.2 MB/s eta 0:00:01\r\u001b[K     |████████████                    | 51 kB 5.0 MB/s eta 0:00:01\r\u001b[K     |██████████████▎                 | 61 kB 5.4 MB/s eta 0:00:01\r\u001b[K     |████████████████▊               | 71 kB 5.8 MB/s eta 0:00:01\r\u001b[K     |███████████████████             | 81 kB 6.5 MB/s eta 0:00:01\r\u001b[K     |█████████████████████▌          | 92 kB 6.6 MB/s eta 0:00:01\r\u001b[K     |███████████████████████▉        | 102 kB 5.2 MB/s eta 0:00:01\r\u001b[K     |██████████████████████████▎     | 112 kB 5.2 MB/s eta 0:00:01\r\u001b[K     |████████████████████████████▋   | 122 kB 5.2 MB/s eta 0:00:01\r\u001b[K     |███████████████████████████████ | 133 kB 5.2 MB/s eta 0:00:01\r\u001b[K     |████████████████████████████████| 137 kB 5.2 MB/s \n",
            "\u001b[?25hBuilding wheels for collected packages: jellyfish\n",
            "  Building wheel for jellyfish (setup.py) ... \u001b[?25l\u001b[?25hdone\n",
            "  Created wheel for jellyfish: filename=jellyfish-0.8.9-cp37-cp37m-linux_x86_64.whl size=73236 sha256=8305c8cc8d7ebd1d2f54ad3faac6e9232a7ce888f03987526c535a4a957fe5b6\n",
            "  Stored in directory: /root/.cache/pip/wheels/32/a9/ef/5d8742e72deaf0d1de327a180d008c2c0299367581800ea73f\n",
            "Successfully built jellyfish\n",
            "Installing collected packages: jellyfish\n",
            "Successfully installed jellyfish-0.8.9\n"
          ]
        }
      ]
    },
    {
      "cell_type": "code",
      "source": [
        "from jellyfish import soundex\n",
        "from tqdm import tqdm\n",
        "\n",
        "print(\"Soundex of dreamer: \", soundex(\"dreamer\"))\n",
        "print(\"Soundex of trucker: \", soundex(\"trucker\"))"
      ],
      "metadata": {
        "colab": {
          "base_uri": "https://localhost:8080/"
        },
        "id": "0vuLc95llqxh",
        "outputId": "d93f7cc7-dce4-4af1-a9dc-ba4c6a09a8a3"
      },
      "execution_count": null,
      "outputs": [
        {
          "output_type": "stream",
          "name": "stdout",
          "text": [
            "Soundex of dreamer:  D656\n",
            "Soundex of trucker:  T626\n"
          ]
        }
      ]
    },
    {
      "cell_type": "code",
      "source": [
        "def read_last_word(file_path, collector):\n",
        "  for line in open(file_path, \"r\"):\n",
        "    words = line.split()\n",
        "    index = -1\n",
        "    while len(words[index]) < 2 or words[index] == \"<unk>\":\n",
        "      index -= 1\n",
        "    collector.append(soundex(words[index]))\n",
        "  return collector"
      ],
      "metadata": {
        "id": "uM1VQHGBluoN"
      },
      "execution_count": null,
      "outputs": []
    },
    {
      "cell_type": "code",
      "source": [
        "input_last_word = []\n",
        "pred_last_word = []\n",
        "input_path = \"/content/input.txt\"\n",
        "pred_path = \"/content/preds_delete_retrieve.txt\"\n",
        "input_last_word = read_last_word(input_path, input_last_word)\n",
        "pred_last_word = read_last_word(pred_path, pred_last_word)"
      ],
      "metadata": {
        "id": "FpfY-feHruOn"
      },
      "execution_count": null,
      "outputs": []
    },
    {
      "cell_type": "code",
      "source": [
        "sound_similarity = []\n",
        "from difflib import SequenceMatcher\n",
        "\n",
        "for input, pred in zip(input_last_word, pred_last_word):\n",
        "  string_similarity = SequenceMatcher(None, input, pred).ratio()\n",
        "  if input[-1] == pred[-1] and input != pred:\n",
        "    string_similarity *= 1.25\n",
        "  sound_similarity.append(string_similarity)"
      ],
      "metadata": {
        "id": "jYQIzFBFuJ2a"
      },
      "execution_count": null,
      "outputs": []
    },
    {
      "cell_type": "code",
      "source": [
        "import numpy as np\n",
        "sound_similarity = np.array(sound_similarity)\n",
        "print(np.mean(sound_similarity))\n",
        "print(SequenceMatcher(None, \"dreamer\", \"trucker\").ratio())\n",
        "print(\"SequenceMatcher ratio of D656 and T626: \", SequenceMatcher(None, \"D656\", \"T626\").ratio())"
      ],
      "metadata": {
        "colab": {
          "base_uri": "https://localhost:8080/"
        },
        "id": "PMPlXmjnvwQ6",
        "outputId": "548e6662-ffd9-48e5-b8ab-cc239ce24654"
      },
      "execution_count": null,
      "outputs": [
        {
          "output_type": "stream",
          "name": "stdout",
          "text": [
            "0.6069989929506546\n",
            "0.42857142857142855\n",
            "SequenceMatcher ratio of D656 and T626:  0.5\n"
          ]
        }
      ]
    },
    {
      "cell_type": "code",
      "source": [
        "!pip install textstat"
      ],
      "metadata": {
        "colab": {
          "base_uri": "https://localhost:8080/"
        },
        "id": "2TfjwH9X0PTC",
        "outputId": "2c7831b9-4955-439b-f329-a375fd177ebf"
      },
      "execution_count": null,
      "outputs": [
        {
          "output_type": "stream",
          "name": "stdout",
          "text": [
            "Collecting textstat\n",
            "  Downloading textstat-0.7.2-py3-none-any.whl (101 kB)\n",
            "\u001b[K     |████████████████████████████████| 101 kB 3.2 MB/s \n",
            "\u001b[?25hCollecting pyphen\n",
            "  Downloading pyphen-0.11.0-py3-none-any.whl (2.0 MB)\n",
            "\u001b[K     |████████████████████████████████| 2.0 MB 31.7 MB/s \n",
            "\u001b[?25hInstalling collected packages: pyphen, textstat\n",
            "Successfully installed pyphen-0.11.0 textstat-0.7.2\n"
          ]
        }
      ]
    },
    {
      "cell_type": "code",
      "source": [
        "import textstat"
      ],
      "metadata": {
        "id": "T-mwnVxG0N4Y"
      },
      "execution_count": null,
      "outputs": []
    }
  ]
}