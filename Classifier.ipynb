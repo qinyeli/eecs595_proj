{
  "nbformat": 4,
  "nbformat_minor": 0,
  "metadata": {
    "colab": {
      "name": "Classifier.ipynb",
      "provenance": [],
      "collapsed_sections": []
    },
    "kernelspec": {
      "name": "python3",
      "display_name": "Python 3"
    },
    "language_info": {
      "name": "python"
    }
  },
  "cells": [
    {
      "cell_type": "code",
      "metadata": {
        "colab": {
          "base_uri": "https://localhost:8080/"
        },
        "id": "a38pRzAIRSxs",
        "outputId": "f946c55b-eb5c-4e2d-abb6-30cdcab64b37"
      },
      "source": [
        "!pip install bcolz"
      ],
      "execution_count": null,
      "outputs": [
        {
          "output_type": "stream",
          "name": "stdout",
          "text": [
            "Requirement already satisfied: bcolz in /usr/local/lib/python3.7/dist-packages (1.2.1)\n",
            "Requirement already satisfied: numpy>=1.7 in /usr/local/lib/python3.7/dist-packages (from bcolz) (1.19.5)\n"
          ]
        }
      ]
    },
    {
      "cell_type": "code",
      "metadata": {
        "id": "cMPStaMMRHrF",
        "colab": {
          "base_uri": "https://localhost:8080/"
        },
        "outputId": "7f64ee53-e407-415d-c711-cf8a0200aede"
      },
      "source": [
        "import os\n",
        "import math\n",
        "import random\n",
        "import time\n",
        "\n",
        "import bcolz\n",
        "import numpy as np\n",
        "import pickle\n",
        "import torch\n",
        "from torch import nn\n",
        "from torch import optim\n",
        "from sklearn.model_selection import train_test_split\n",
        "import nltk\n",
        "\n",
        "from matplotlib import pyplot as plt\n",
        "\n",
        "nltk.download('punkt')"
      ],
      "execution_count": null,
      "outputs": [
        {
          "output_type": "stream",
          "name": "stdout",
          "text": [
            "[nltk_data] Downloading package punkt to /root/nltk_data...\n",
            "[nltk_data]   Package punkt is already up-to-date!\n"
          ]
        },
        {
          "output_type": "execute_result",
          "data": {
            "text/plain": [
              "True"
            ]
          },
          "metadata": {},
          "execution_count": 2
        }
      ]
    },
    {
      "cell_type": "code",
      "metadata": {
        "colab": {
          "base_uri": "https://localhost:8080/"
        },
        "id": "xLwYNNYCQySJ",
        "outputId": "bc5dee06-dc60-44af-c29a-98dc8145152b"
      },
      "source": [
        "#@title Mount to Google Drive\n",
        "\n",
        "from google.colab import drive\n",
        "drive.mount('/content/drive', force_remount=True)\n",
        "glove_path = os.path.join('drive', 'My Drive', 'eecs595_p/working_directory')\n",
        "data_path = os.path.join('drive', 'My Drive', 'eecs595_p/data')\n",
        "input_file = os.path.join(data_path, 'classification-test-sample.txt')"
      ],
      "execution_count": null,
      "outputs": [
        {
          "output_type": "stream",
          "name": "stdout",
          "text": [
            "Mounted at /content/drive\n"
          ]
        }
      ]
    },
    {
      "cell_type": "code",
      "source": [
        "#@title Glove\n",
        "\n",
        "from typing import Dict, List\n",
        "\n",
        "class Glove():\n",
        "    \"\"\"Pre-trained word embedding.\"\"\"\n",
        "\n",
        "    def __init__(self):\n",
        "        # These pickle are saved by executing cache_glove.py\n",
        "        self.vectors = bcolz.open(f'{glove_path}/6B.50.dat')[:]\n",
        "        self.word2idx = pickle.load(open(f'{glove_path}/6B.50_idx.pkl', 'rb'))\n",
        "\n",
        "        # UNKA (the unkonwn word) is assigned an average word embedding\n",
        "        # We have already checked that unka does not occur in glove\n",
        "        self.word2idx['unka'] = self.vectors.shape[0]\n",
        "        self.vectors = np.concatenate((self.vectors, np.matrix(self.vectors).mean(axis=0)))\n",
        "\n",
        "        # PAD is for padding.\n",
        "        self.word2idx['pad'] = self.vectors.shape[0]\n",
        "        self.vectors = np.concatenate((self.vectors, np.zeros_like(self.vectors[0])))\n",
        "\n",
        "    def observe_word_count(self, word_count: Dict[str, int]):\n",
        "        \"\"\"Informs Glove of the word count in the train data.\n",
        "\n",
        "        Words that are not seen frequently enough in the train data will be treated as unka.\n",
        "        The threshold is set to 3.\n",
        "        \"\"\"\n",
        "        infrequent_words = []\n",
        "        for word in self.word2idx:\n",
        "            if word != 'pad' and word in word_count and word_count[word] < 3:\n",
        "                infrequent_words.append(word)\n",
        "\n",
        "        for word in infrequent_words:\n",
        "            self.word2idx.pop(word)\n",
        "\n",
        "    def get_word_indices(self, words: List[str]) -> np.ndarray:\n",
        "        \"\"\"Return word indices for teh given listo f words as a Numpy array.\"\"\"\n",
        "        indices = []\n",
        "        for word in words:\n",
        "            word = word.lower()\n",
        "            if word in self.word2idx:\n",
        "                indices.append(self.word2idx[word])\n",
        "            else:\n",
        "                indices.append(self.word2idx['unka'])\n",
        "        return np.array(indices)\n",
        "\n",
        "    def get_word_embeddings(self, word_indices: np.ndarray) -> np.ndarray:\n",
        "        \"\"\"Return the word embeddings for the given list of words.\n",
        "        \n",
        "        The word_indices could be a matrix.\n",
        "        \"\"\"\n",
        "        return self.vectors[word_indices]\n",
        "\n",
        "def embed_with_glove(tokenized):\n",
        "    if len(tokenized) > 20:\n",
        "        tokenized = tokenized[:20]\n",
        "    elif len(tokenized) < 20:\n",
        "        tokenized.extend(['pad'] * (20 - len(tokenized)))\n",
        "    return glove.get_word_embeddings(glove.get_word_indices(tokenized))"
      ],
      "metadata": {
        "id": "ZObr9fkgUOOb",
        "cellView": "form"
      },
      "execution_count": null,
      "outputs": []
    },
    {
      "cell_type": "code",
      "source": [
        "#@title Data and DataManager\n",
        "class BatchDataManager():\n",
        "    def __init__(self, X, y, batch_size):\n",
        "        self.X = X\n",
        "        self.y = y\n",
        "        self.data_size = len(self.y)\n",
        "        self.batch_size = batch_size\n",
        "\n",
        "    def getX(self, batch_idx: int) -> torch.Tensor():\n",
        "        left = int(self.batch_size * batch_idx)\n",
        "        right = int(min(self.batch_size * (batch_idx + 1), self.data_size))\n",
        "        return self.X[left:right]\n",
        "\n",
        "    def getY(self, batch_idx: int) -> torch.Tensor():\n",
        "        left = self.batch_size * batch_idx\n",
        "        right = min(self.batch_size * (batch_idx + 1), self.data_size)\n",
        "        return self.y[left:right]\n",
        "\n",
        "    def get_batch_num(self):\n",
        "        \"\"\"Return the total number of batches.\"\"\"\n",
        "        return math.ceil(len(self.y) / batch_size)\n",
        "\n",
        "\n",
        "def read_data(catagory1, catagory2, limit=50000):\n",
        "    catagory_files = [catagory1, catagory2]\n",
        "\n",
        "    if limit == -1:\n",
        "        line_count = 0\n",
        "        for catagory_file in catagory_files:\n",
        "            with open(catagory_file) as f:\n",
        "                for line in f:\n",
        "                    line_count += 1\n",
        "    else:\n",
        "        line_count = limit\n",
        "\n",
        "    X = np.ndarray([line_count, 20, 50], dtype=float)\n",
        "    y = np.ndarray([line_count], dtype=int)\n",
        "\n",
        "    count = 0\n",
        "    for catagory_idx, catagory_file in enumerate(catagory_files):\n",
        "        if catagory_idx >= 2:\n",
        "            raise RuntimeError('lalall')\n",
        "\n",
        "        with open(catagory_file) as f:\n",
        "            for line in f:\n",
        "                y[count] = catagory_idx\n",
        "\n",
        "                # Truncate or pad\n",
        "                tokenized = line.lower().split()\n",
        "                X[count] = embed_with_glove(tokenized)\n",
        "                count += 1\n",
        "\n",
        "                if catagory_idx == 0 and count >= line_count / 2:\n",
        "                    break\n",
        "                if catagory_idx == 1 and count >= line_count:\n",
        "                    break\n",
        "    return torch.tensor(X.astype(np.float32)), torch.tensor(y)\n"
      ],
      "metadata": {
        "cellView": "form",
        "id": "HbsxyQzoWLUd"
      },
      "execution_count": null,
      "outputs": []
    },
    {
      "cell_type": "code",
      "source": [
        "glove = Glove()\n",
        "\n",
        "catagory1 = os.path.join(data_path, 'positive_pop.txt')\n",
        "catagory2 = os.path.join(data_path, 'negative_pop.txt')\n",
        "\n",
        "X, y = read_data(catagory1, catagory2, limit=-1)\n",
        "X_train, X_test, y_train, y_test = train_test_split(X, y, test_size = 0.3, random_state = random.randint(0, 1000))\n",
        "batch_manager_train = BatchDataManager(X_train, y_train, batch_size=32)\n",
        "batch_manager_test = BatchDataManager(X_test, y_test, batch_size=32)"
      ],
      "metadata": {
        "id": "l18G5HHpDtPk"
      },
      "execution_count": null,
      "outputs": []
    },
    {
      "cell_type": "code",
      "source": [
        "#@title Classifier\n",
        "class Classifier(nn.Module):\n",
        "    def __init__(self,\n",
        "                 hidden_dim,\n",
        "                 output_dim,\n",
        "                 n_layers,\n",
        "                 bidirectional,\n",
        "                 dropout):\n",
        "        super().__init__()\n",
        "        self.rnn = nn.GRU(50, #embedding_dim\n",
        "                          hidden_dim,\n",
        "                          num_layers = n_layers,\n",
        "                          bidirectional = bidirectional,\n",
        "                          batch_first = True,\n",
        "                          dropout = 0 if n_layers < 2 else dropout)\n",
        "        self.out = nn.Linear(hidden_dim * 2 if bidirectional else hidden_dim, output_dim)\n",
        "        self.dropout = nn.Dropout(dropout)\n",
        "        \n",
        "    def forward(self, embedded):\n",
        "        _, hidden = self.rnn(embedded)\n",
        "        if self.rnn.bidirectional:\n",
        "            hidden = self.dropout(torch.cat((hidden[-2,:,:], hidden[-1,:,:]), dim = 1))\n",
        "        else:\n",
        "            hidden = self.dropout(hidden[-1,:,:])\n",
        "        output = self.out(hidden)  \n",
        "        return output"
      ],
      "metadata": {
        "id": "i3Hok9PllUvJ",
        "cellView": "form"
      },
      "execution_count": null,
      "outputs": []
    },
    {
      "cell_type": "code",
      "source": [
        "#@title Training Helpers\n",
        "\n",
        "def binary_accuracy(preds, y):\n",
        "    \"\"\"\n",
        "    Returns accuracy per batch, i.e. if you get 8/10 right, this returns 0.8, NOT 8\n",
        "    \"\"\"\n",
        "    #round predictions to the closest integer\n",
        "    rounded_preds = torch.round(torch.sigmoid(preds))\n",
        "    correct = (rounded_preds == y).float() #convert into float for division \n",
        "    acc = correct.sum() / len(correct)\n",
        "    return acc\n",
        "\n",
        "\n",
        "def epoch_time(start_time, end_time):\n",
        "    elapsed_time = end_time - start_time\n",
        "    elapsed_mins = int(elapsed_time / 60)\n",
        "    elapsed_secs = int(elapsed_time - (elapsed_mins * 60))\n",
        "    return elapsed_mins, elapsed_secs\n",
        "\n",
        "\n",
        "def train(model, batch_manager, optimizer, criterion):\n",
        "    epoch_loss = 0\n",
        "    epoch_acc = 0\n",
        "    model.train()\n",
        "    for j in range(batch_manager.get_batch_num()):\n",
        "        optimizer.zero_grad()\n",
        "        predictions = model(batch_manager.getX(j)).squeeze(1)\n",
        "        loss = criterion(predictions, batch_manager.getY(j).float())\n",
        "        acc = binary_accuracy(predictions, batch_manager.getY(j).float())\n",
        "        loss.backward()\n",
        "        optimizer.step()\n",
        "        epoch_loss += loss.item()\n",
        "        epoch_acc += acc.item()\n",
        "    return epoch_loss / batch_manager.get_batch_num(), epoch_acc / batch_manager.get_batch_num()\n",
        "\n",
        "\n",
        "def evaluate(model, batch_manager, criterion):\n",
        "    epoch_loss = 0\n",
        "    epoch_acc = 0\n",
        "    model.eval()\n",
        "    with torch.no_grad():\n",
        "        for j in range(batch_manager.get_batch_num()):\n",
        "            predictions = model(batch_manager.getX(j)).squeeze(1)\n",
        "            loss = criterion(predictions, batch_manager.getY(j).float())\n",
        "            acc = binary_accuracy(predictions, batch_manager.getY(j).float())\n",
        "            epoch_loss += loss.item()\n",
        "            epoch_acc += acc.item()\n",
        "    return epoch_loss / batch_manager.get_batch_num(), epoch_acc / batch_manager.get_batch_num()\n"
      ],
      "metadata": {
        "cellView": "form",
        "id": "DZOsbrTa4wSG"
      },
      "execution_count": null,
      "outputs": []
    },
    {
      "cell_type": "code",
      "source": [
        "HIDDEN_DIM = 256\n",
        "OUTPUT_DIM = 1\n",
        "N_LAYERS = 2\n",
        "BIDIRECTIONAL = True\n",
        "DROPOUT = 0.25\n",
        "\n",
        "model = Classifier(HIDDEN_DIM,\n",
        "                         OUTPUT_DIM,\n",
        "                         N_LAYERS,\n",
        "                         BIDIRECTIONAL,\n",
        "                         DROPOUT)"
      ],
      "metadata": {
        "id": "XzV7KH8mUgmq"
      },
      "execution_count": null,
      "outputs": []
    },
    {
      "cell_type": "code",
      "metadata": {
        "id": "hmoB8AA6TsY4",
        "colab": {
          "base_uri": "https://localhost:8080/"
        },
        "outputId": "ef9a4d3b-317b-41a4-8bb1-22abb98b6e28"
      },
      "source": [
        "optimizer = optim.Adam(model.parameters())\n",
        "criterion = nn.BCEWithLogitsLoss()\n",
        "batch_size = 32\n",
        "N_EPOCHS = 5\n",
        "\n",
        "for epoch in range(N_EPOCHS):\n",
        "    start_time = time.time()\n",
        "    train_loss, train_acc = train(model, batch_manager_train, optimizer, criterion)\n",
        "    valid_loss, valid_acc = evaluate(model, batch_manager_test, criterion)\n",
        "    end_time = time.time()\n",
        "    epoch_mins, epoch_secs = epoch_time(start_time, end_time)\n",
        "    print(f'Epoch: {epoch+1:02} | Epoch Time: {epoch_mins}m {epoch_secs}s')\n",
        "    print(f'\\tTrain Loss: {train_loss:.3f} | Train Acc: {train_acc*100:.2f}%')\n",
        "    print(f'\\t Val. Loss: {valid_loss:.3f} |  Val. Acc: {valid_acc*100:.2f}%')"
      ],
      "execution_count": null,
      "outputs": [
        {
          "output_type": "stream",
          "name": "stdout",
          "text": [
            "Epoch: 01 | Epoch Time: 13m 16s\n",
            "\tTrain Loss: 0.374 | Train Acc: 82.82%\n",
            "\t Val. Loss: 0.278 |  Val. Acc: 88.13%\n",
            "Epoch: 02 | Epoch Time: 13m 10s\n",
            "\tTrain Loss: 0.249 | Train Acc: 89.58%\n",
            "\t Val. Loss: 0.243 |  Val. Acc: 89.79%\n",
            "Epoch: 03 | Epoch Time: 13m 8s\n",
            "\tTrain Loss: 0.203 | Train Acc: 91.64%\n",
            "\t Val. Loss: 0.226 |  Val. Acc: 90.65%\n",
            "Epoch: 04 | Epoch Time: 13m 10s\n",
            "\tTrain Loss: 0.171 | Train Acc: 93.03%\n",
            "\t Val. Loss: 0.226 |  Val. Acc: 91.06%\n",
            "Epoch: 05 | Epoch Time: 13m 1s\n",
            "\tTrain Loss: 0.145 | Train Acc: 94.06%\n",
            "\t Val. Loss: 0.231 |  Val. Acc: 91.19%\n"
          ]
        }
      ]
    },
    {
      "cell_type": "code",
      "source": [
        "model_path = os.path.join(data_path, 'classifier.pt')\n",
        "\n",
        "# Uncomment to save the model\n",
        "# torch.save(model.state_dict(), model_path)"
      ],
      "metadata": {
        "id": "gYpO2fwN09Mm"
      },
      "execution_count": null,
      "outputs": []
    },
    {
      "cell_type": "code",
      "source": [
        "loaded_model = Classifier(HIDDEN_DIM,\n",
        "                         OUTPUT_DIM,\n",
        "                         N_LAYERS,\n",
        "                         BIDIRECTIONAL,\n",
        "                         DROPOUT)\n",
        "loaded_model.load_state_dict(torch.load(model_path))\n",
        "loaded_model.eval()"
      ],
      "metadata": {
        "colab": {
          "base_uri": "https://localhost:8080/"
        },
        "id": "C9mfyEg-qzGr",
        "outputId": "50133f3f-565e-419d-f4e4-85d97d10a631"
      },
      "execution_count": null,
      "outputs": [
        {
          "output_type": "execute_result",
          "data": {
            "text/plain": [
              "Classifier(\n",
              "  (rnn): GRU(50, 256, num_layers=2, batch_first=True, dropout=0.25, bidirectional=True)\n",
              "  (out): Linear(in_features=512, out_features=1, bias=True)\n",
              "  (dropout): Dropout(p=0.25, inplace=False)\n",
              ")"
            ]
          },
          "metadata": {},
          "execution_count": 11
        }
      ]
    },
    {
      "cell_type": "code",
      "source": [
        "def get_score_for_sentences(tokenized):\n",
        "    batch_size = len(tokenized)\n",
        "    input = np.ndarray([batch_size, 20, 50], dtype=float)\n",
        "    for i in range(batch_size):\n",
        "        input[i] = embed_with_glove(tokenized[i])\n",
        "    return loaded_model(torch.tensor(input.astype(np.float32)))"
      ],
      "metadata": {
        "id": "gwdScnhMvQv5"
      },
      "execution_count": null,
      "outputs": []
    },
    {
      "cell_type": "code",
      "source": [
        "import collections\n",
        "import copy\n",
        "\n",
        "class Stat():\n",
        "    def __init__(self):\n",
        "        self.count = 0\n",
        "        self.sum = 0\n",
        "      \n",
        "    def append(self, score):\n",
        "        self.count += 1\n",
        "        self.sum += score\n",
        "    \n",
        "    def get_score(self):\n",
        "        return self.sum / self.count\n",
        "\n",
        "    def __repr__(self):\n",
        "        return str(self.get_score())\n",
        "\n",
        "\n",
        "def get_grams(text):\n",
        "    grams = []\n",
        "    for i in range(1, 5):\n",
        "        i_grams = [\" \".join(gram) for gram in nltk.ngrams(text, i)]\n",
        "        grams.extend(i_grams)\n",
        "\n",
        "        if len(i_grams) == 0:\n",
        "            break\n",
        "    return grams\n",
        "\n",
        "def get_vocab(catagory_file):\n",
        "    vocab = collections.defaultdict(Stat)\n",
        "    count = 0\n",
        "    batch_size = 256\n",
        "    with open(catagory_file) as f:\n",
        "        while True:\n",
        "            lines = []\n",
        "            for i in range(batch_size):\n",
        "                line = f.readline()\n",
        "                if not line:\n",
        "                    break\n",
        "                lines.append(line.lower().split())\n",
        "\n",
        "            scores = get_score_for_sentences(copy.deepcopy(lines))\n",
        "            for idx, tokenized in enumerate(lines):\n",
        "                for gram in get_grams(tokenized):\n",
        "                    vocab[gram].append(float(scores[idx]))\n",
        "            count += 1\n",
        "            if count % 50 == 0:\n",
        "                print(count)\n",
        "            if not line:\n",
        "                break\n",
        "    return vocab"
      ],
      "metadata": {
        "id": "dUJ9xkVxbIP1"
      },
      "execution_count": null,
      "outputs": []
    },
    {
      "cell_type": "code",
      "source": [
        "catagory1 = os.path.join(data_path, 'positive_pop.txt')\n",
        "catagory2 = os.path.join(data_path, 'negative_pop.txt')\n",
        "vocab1 = get_vocab(catagory1)\n",
        "vocab2 = get_vocab(catagory2)\n",
        "\n",
        "threshold = 10\n",
        "\n",
        "shared_vocab = {}\n",
        "for key in vocab1:\n",
        "    if vocab1[key].count >= threshold:\n",
        "        if key in vocab2 and vocab2[key].count >= threshold:\n",
        "            shared_vocab[key] = (vocab1[key].get_score() + vocab2[key].get_score()) / 2\n",
        "\n",
        "with open(os.path.join(data_path, 'classifier.attribute.txt'), 'w+') as f:\n",
        "    for key in shared_vocab:\n",
        "        score = shared_vocab[key]\n",
        "        f.write(f'{key} {-score} {score}\\n')"
      ],
      "metadata": {
        "id": "8uSd8dJn3fGt"
      },
      "execution_count": null,
      "outputs": []
    },
    {
      "cell_type": "code",
      "source": [
        "def get_scores_for_txt(filename):\n",
        "    lines = []\n",
        "    with open(filename) as f:\n",
        "        for line in f:\n",
        "            lines.append(line.lower().split())\n",
        "    return get_score_for_sentences(lines).detach()[:,0]\n",
        "  \n",
        "def plot_hist(filename):\n",
        "    scores = get_scores_for_txt(filename)\n",
        "    plt.hist(- scores, bins=20, density=True)\n",
        "    plt.xlabel('Classifier score')\n",
        "    plt.ylabel('Probability Density')\n",
        "    plt.show()"
      ],
      "metadata": {
        "id": "iJzmbcOWT5_x"
      },
      "execution_count": 34,
      "outputs": []
    },
    {
      "cell_type": "code",
      "source": [
        "plot_hist(os.path.join('drive', 'My Drive', '595FinalProject/eva_lyrics/input.txt'))\n",
        "plot_hist(os.path.join('drive', 'My Drive', '595FinalProject/eva_lyrics/preds_delete.txt'))\n",
        "plot_hist(os.path.join('drive', 'My Drive', '595FinalProject/eva_lyrics/preds_delete_retrieve.txt'))\n",
        "plot_hist(os.path.join('drive', 'My Drive', '595FinalProject/eva_lyrics/preds_classifier.txt'))"
      ],
      "metadata": {
        "colab": {
          "base_uri": "https://localhost:8080/",
          "height": 1000
        },
        "id": "tlmm9dXbWGMV",
        "outputId": "0146bffe-c27b-43b1-a951-22bdb8a791be"
      },
      "execution_count": 35,
      "outputs": [
        {
          "output_type": "display_data",
          "data": {
            "image/png": "[encoded data removed]",
            "text/plain": [
              "<Figure size 432x288 with 1 Axes>"
            ]
          },
          "metadata": {
            "needs_background": "light"
          }
        },
        {
          "output_type": "display_data",
          "data": {
            "image/png": "[encoded data removed]",
            "text/plain": [
              "<Figure size 432x288 with 1 Axes>"
            ]
          },
          "metadata": {
            "needs_background": "light"
          }
        },
        {
          "output_type": "display_data",
          "data": {
            "image/png": "[encoded data removed]",
            "text/plain": [
              "<Figure size 432x288 with 1 Axes>"
            ]
          },
          "metadata": {
            "needs_background": "light"
          }
        },
        {
          "output_type": "display_data",
          "data": {
            "image/png": "[encoded data removed]",
            "text/plain": [
              "<Figure size 432x288 with 1 Axes>"
            ]
          },
          "metadata": {
            "needs_background": "light"
          }
        }
      ]
    }
  ]
}